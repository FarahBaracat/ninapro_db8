{
 "cells": [
  {
   "cell_type": "markdown",
   "id": "6d0b27eb",
   "metadata": {},
   "source": [
    "# EDA for the Ninapro DB 8"
   ]
  },
  {
   "cell_type": "code",
   "execution_count": 1,
   "id": "99117905",
   "metadata": {},
   "outputs": [],
   "source": [
    "import h5py\n",
    "import os\n",
    "import scipy.io\n",
    "from collections import Counter\n",
    "import matplotlib.pyplot as plt\n",
    "import logging\n",
    "import matplotlib.gridspec as gridspec\n",
    "import pandas as pd\n",
    "import seaborn as sns\n",
    "from scipy import signal\n",
    "from tqdm import tqdm\n",
    "from scipy.fft import fft, fftfreq, rfft, rfftfreq\n",
    "\n",
    "pd.set_option('display.max_rows', 1000)\n",
    "\n"
   ]
  },
  {
   "cell_type": "code",
   "execution_count": 2,
   "id": "5467211f",
   "metadata": {},
   "outputs": [],
   "source": [
    "COLOR_DICT = {'midnight_blue': '#2c3e50', 'pomgrenate': '#c0392b', 'pumpkin': '#d35400', \n",
    "              'green_sea': '#16a085',\n",
    "              'wisteria': '#8e44ad', 'orange': '#f39c12', 'turquoise': '#1abc9c', 'grey': '#7f8c8d',\n",
    "             'lotus':'#f368e0', 'nasu':'#5f27cd'}\n"
   ]
  },
  {
   "cell_type": "code",
   "execution_count": 3,
   "id": "2716672f",
   "metadata": {},
   "outputs": [],
   "source": [
    "def parse_mat_file_to_dict(filepath):\n",
    "    data = {}\n",
    "    f = h5py.File(filepath, 'r')\n",
    "    for k, v in f.items():\n",
    "        data[k] = np.array(v)\n",
    "    return f, data"
   ]
  },
  {
   "cell_type": "markdown",
   "id": "7d4e90a2",
   "metadata": {},
   "source": [
    "# Loading Dataset"
   ]
  },
  {
   "cell_type": "code",
   "execution_count": 4,
   "id": "817b8eb9",
   "metadata": {},
   "outputs": [],
   "source": [
    "data_dir = 'data/'\n",
    "subject = 1\n",
    "subject_dataset = 1\n",
    "subject_file = f'S{subject}_E1_A{subject_dataset}.mat'  #S1_E1_A1.mat\n",
    "mat = scipy.io.loadmat(os.path.join(data_dir,subject_file))"
   ]
  },
  {
   "cell_type": "code",
   "execution_count": 5,
   "id": "8a6cb3b2",
   "metadata": {},
   "outputs": [
    {
     "data": {
      "text/plain": [
       "{'__header__': b'MATLAB 5.0 MAT-file, Platform: PCWIN64, Created on: Thu Dec 06 15:23:01 2018',\n",
       " '__version__': '1.0',\n",
       " '__globals__': [],\n",
       " 'subject': array([[1]], dtype=uint8),\n",
       " 'exercise': array([[1]], dtype=uint8),\n",
       " 'emg': array([[-1.2213888e-05,  1.2848358e-05,  1.4171899e-06, ...,\n",
       "          2.4547974e-06, -3.5635583e-07,  3.9899796e-06],\n",
       "        [-1.1034591e-05,  1.1959419e-05, -8.0825924e-07, ...,\n",
       "          7.5772382e-06, -7.6994631e-08,  9.7154589e-06],\n",
       "        [-5.5595945e-07,  1.0261851e-05, -9.0351966e-07, ...,\n",
       "          9.7515685e-06, -2.5459797e-06,  6.3704433e-06],\n",
       "        ...,\n",
       "        [-3.5108628e-06, -1.2804191e-05,  1.3349400e-06, ...,\n",
       "         -3.4621539e-07, -2.2962845e-06,  1.2677652e-06],\n",
       "        [-9.1614737e-07, -1.4396191e-05,  3.9385824e-07, ...,\n",
       "         -1.8846814e-06, -2.8121669e-06,  1.2581410e-07],\n",
       "        [ 8.8349225e-08, -1.3151894e-05, -2.0248261e-07, ...,\n",
       "         -2.3238319e-06, -3.3372892e-06,  1.1472472e-07]], dtype=float32),\n",
       " 'acc': array([[ 0.9677953 ,  0.35653424, -0.19888492, ...,  0.7739258 ,\n",
       "          0.11230469, -0.632669  ],\n",
       "        [ 0.96815556,  0.35639012, -0.19982164, ...,  0.7739258 ,\n",
       "          0.11230469, -0.6319124 ],\n",
       "        [ 0.9685158 ,  0.356246  , -0.20075837, ...,  0.7739258 ,\n",
       "          0.11230469, -0.6311558 ],\n",
       "        ...,\n",
       "        [ 0.9828878 ,  0.33010608, -0.20817553, ...,  0.7851786 ,\n",
       "          0.11140639, -0.6180914 ],\n",
       "        [ 0.98263496,  0.32992524, -0.20840533, ...,  0.7856149 ,\n",
       "          0.1110835 , -0.6178277 ],\n",
       "        [ 0.98230946,  0.3297444 , -0.20887552, ...,  0.7861575 ,\n",
       "          0.11079415, -0.61742985]], dtype=float32),\n",
       " 'gyro': array([[-0.14688705,  0.62086004,  1.730889  , ..., -2.195122  ,\n",
       "         -1.6588093 ,  1.9886234 ],\n",
       "        [-0.1558852 ,  0.6028638 ,  1.7173917 , ..., -2.195122  ,\n",
       "         -1.6633084 ,  2.0021205 ],\n",
       "        [-0.16488336,  0.5848675 ,  1.7038945 , ..., -2.195122  ,\n",
       "         -1.6678075 ,  2.0156178 ],\n",
       "        ...,\n",
       "        [-1.7710853 ,  0.24599683,  1.6491339 , ..., -5.487107  ,\n",
       "         -2.0724726 ,  2.6240456 ],\n",
       "        [-1.7721113 ,  0.25153962,  1.6234299 , ..., -5.480168  ,\n",
       "         -2.0769892 ,  2.6104956 ],\n",
       "        [-1.776628  ,  0.26057303,  1.5963297 , ..., -5.471134  ,\n",
       "         -2.081506  ,  2.5969455 ]], dtype=float32),\n",
       " 'mag': array([[ 15.038658  ,  -4.4795527 , -89.47732   , ..., -49.4       ,\n",
       "           1.9795526 ,  79.5       ],\n",
       "        [ 15.016522  ,  -4.472174  , -89.433044  , ..., -49.4       ,\n",
       "           1.9721742 ,  79.5       ],\n",
       "        [ 14.994387  ,  -4.4647956 , -89.38877   , ..., -49.4       ,\n",
       "           1.9647957 ,  79.5       ],\n",
       "        ...,\n",
       "        [ 15.3       ,  -6.2       , -91.7       , ..., -46.4       ,\n",
       "          -0.7       ,  79.4       ],\n",
       "        [ 15.306262  ,  -6.1937375 , -91.725044  , ..., -46.387478  ,\n",
       "          -0.687475  ,  79.41253   ],\n",
       "        [ 15.31367   ,  -6.18633   , -91.75468   , ..., -46.37266   ,\n",
       "          -0.67266023,  79.42734   ]], dtype=float32),\n",
       " 'glove': array([[ 46.5872   , -14.4243555,  22.320053 , ...,  41.629326 ,\n",
       "           2.8205853,   5.1383142],\n",
       "        [ 46.5872   , -14.4243555,  22.320053 , ...,  41.629326 ,\n",
       "           2.8205853,   5.1383142],\n",
       "        [ 46.5872   , -14.4243555,  22.320053 , ...,  41.629326 ,\n",
       "           2.8205853,   5.1383142],\n",
       "        ...,\n",
       "        [ 50.314175 , -25.619379 ,  24.861235 , ...,  62.55128  ,\n",
       "           8.919148 ,   3.5572944],\n",
       "        [ 50.314175 , -25.619379 ,  24.861235 , ...,  62.55128  ,\n",
       "           8.919148 ,   3.5572944],\n",
       "        [ 50.314175 , -25.619379 ,  24.861235 , ...,  62.55128  ,\n",
       "           8.919148 ,   3.5572944]], dtype=float32),\n",
       " 'stimulus': array([[0],\n",
       "        [0],\n",
       "        [0],\n",
       "        ...,\n",
       "        [0],\n",
       "        [0],\n",
       "        [0]], dtype=int8),\n",
       " 'repetition': array([[0],\n",
       "        [0],\n",
       "        [0],\n",
       "        ...,\n",
       "        [0],\n",
       "        [0],\n",
       "        [0]], dtype=int8),\n",
       " 'restimulus': array([[0],\n",
       "        [0],\n",
       "        [0],\n",
       "        ...,\n",
       "        [0],\n",
       "        [0],\n",
       "        [0]], dtype=int8),\n",
       " 'rerepetition': array([[1],\n",
       "        [1],\n",
       "        [1],\n",
       "        ...,\n",
       "        [0],\n",
       "        [0],\n",
       "        [0]], dtype=int8)}"
      ]
     },
     "execution_count": 5,
     "metadata": {},
     "output_type": "execute_result"
    }
   ],
   "source": [
    "mat"
   ]
  },
  {
   "cell_type": "markdown",
   "id": "91c83bf5",
   "metadata": {},
   "source": [
    "# Dataset Description"
   ]
  },
  {
   "cell_type": "markdown",
   "id": "7504515d",
   "metadata": {},
   "source": [
    "### Acquisition\n",
    "For each participant, three datasets were collected: \n",
    "- the first two datasets (acquisitions 1 & 2) comprised **10 repetitions of each movement** and the third dataset (acquisition 3) comprised only two repetitions. \n",
    "- For each subject, the associated .zip file contains three MATLAB files in .mat format, that is, one for each dataset, with synchronized variables.\n",
    "\n",
    "The variables included in the .mat files are the following:\n",
    "- subject: subject number\n",
    "- exercise: exercise number (value set to 1 in all data files)\n",
    "- emg (16 columns): sEMG signals from the 16 sensors\n",
    "- acc (48 columns): three-axis accelerometer data from the 16 sensors\n",
    "- gyro (48 columns): three-axis gyroscope data from the 16 sensors\n",
    "- mag (48 columns): three-axis magnetometer data from the 16 sensors\n",
    "- glove (18 columns): calibrated signals from the 18 sensors of the Cyberglove\n",
    "- stimulus (1 column): the movement repeated by the subject\n",
    "- restimulus (1 column): again the movement repeated by the subject. In this case, the duration of the movement label is refined a-posteriori in order to correspond to the real movement.\n",
    "- repetition (1 column): repetition number of the stimulus\n",
    "- rerepetition (1 column): repetition number of restimulus\n",
    "\n",
    "\n",
    "### Sampling frequency and Preprocessing\n",
    "- The muscular activity was recorded using 16 active double-differential wireless sensors from a Delsys Trigno IM Wireless EMG system. The sensors comprise EMG electrodes and 9-axis inertial measurement units (IMUs). The sensors were positioned in two rows of eight units around the participants’ right forearm in correspondence to the radiohumeral joint (see pictures below). No specific muscles were targeted. The sensors were fixed on the forearm using the standard manufacturer-provided adhesive bands. \n",
    "- Moreover, a hypoallergenic elastic latex-free band was placed around the sensors to keep them fixed during the acquisition. \n",
    "- Sampling rate:\n",
    "    - **The sEMG signals were sampled at a rate of 1111 Hz**, \n",
    "    - **accelerometer and gyroscope data were sampled at 148 Hz**\n",
    "    - **magnetometer data were sampled at 74 Hz**. \n",
    "    - **All signals were upsampled to 2 kHz and post-synchronized.**\n",
    "    \n",
    "### Recorded target (i.e hand movements)\n",
    "- During the acquisition, the subjects were asked to repeat 9 movements using both hands (bilateral mirrored movements). \n",
    "- The duration of each of the nine movements varied between **6 and 9 seconds** and consecutive trials were interleaved with **3 seconds of rest**. \n",
    "- Each repetition started with the participant holding their fingers at the rest state and involved slowly reaching the target posture as shown on the screen and returning to the rest state before the end of the trial. \n",
    "\n",
    "- The following movements were included:\n",
    "    0. rest\n",
    "    1. thumb flexion/extension\n",
    "    2. thumb abduction/adduction\n",
    "    3. index finger flexion/extension\n",
    "    4. middle finger flexion/extension\n",
    "    5. combined ring and little fingers flexion/extension\n",
    "    6. index pointer\n",
    "    7. cylindrical grip\n",
    "    8. lateral grip\n",
    "    9. tripod grip\n",
    "\n"
   ]
  },
  {
   "cell_type": "markdown",
   "id": "ec2547cf",
   "metadata": {},
   "source": [
    "# Dataset Insights"
   ]
  },
  {
   "cell_type": "code",
   "execution_count": 6,
   "id": "f42b9250",
   "metadata": {},
   "outputs": [
    {
     "name": "stdout",
     "output_type": "stream",
     "text": [
      "EMG data:(2292526, 16)\n",
      "Glove data:(2292526, 18) \n",
      "acc data:(2292526, 48)\n",
      "\n",
      "stimulus data:(2292526, 1) \n",
      "restimulus data:(2292526, 1)\n",
      "\n",
      "repetition data:(2292526, 1) \n",
      "rerepetition data:(2292526, 1)\n",
      "Rerepetition value count:\n",
      "Counter({1: 291411, 6: 235135, 4: 231914, 8: 225229, 10: 224936, 2: 219693, 3: 216540, 5: 215265, 9: 213469, 7: 209056, 0: 9878})\n"
     ]
    },
    {
     "data": {
      "text/plain": [
       "Counter({0: 1188175,\n",
       "         1: 82564,\n",
       "         2: 93842,\n",
       "         3: 160468,\n",
       "         4: 120850,\n",
       "         5: 112737,\n",
       "         6: 88592,\n",
       "         7: 175325,\n",
       "         8: 120336,\n",
       "         9: 149637})"
      ]
     },
     "execution_count": 6,
     "metadata": {},
     "output_type": "execute_result"
    }
   ],
   "source": [
    "print(f\"EMG data:{mat['emg'].shape}\\nGlove data:{mat['glove'].shape} \\nacc data:{mat['acc'].shape}\")\n",
    "print(f\"\\nstimulus data:{mat['stimulus'].shape} \\nrestimulus data:{mat['restimulus'].shape}\")\n",
    "print(f\"\\nrepetition data:{mat['repetition'].shape} \\nrerepetition data:{mat['rerepetition'].shape}\")\n",
    "\n",
    "\n",
    "print(f\"Rerepetition value count:\\n{Counter(mat['rerepetition'][:,0])}\")\n",
    "Counter(mat['restimulus'][:,0])"
   ]
  },
  {
   "cell_type": "markdown",
   "id": "0bdb77e0",
   "metadata": {},
   "source": [
    "- sEMG has 16 channels.\n",
    "- 'rerepetition' variable defines the number of trial per movement.\n",
    "- 'restimulus' defines the target gesture to be performed by subject. This variable takes in a value from 0 to 9 representing the 10 classes of gestures + rest"
   ]
  },
  {
   "cell_type": "code",
   "execution_count": 8,
   "id": "731f9837",
   "metadata": {},
   "outputs": [
    {
     "data": {
      "text/plain": [
       "Counter({0: 796495,\n",
       "         1: 139161,\n",
       "         2: 141287,\n",
       "         3: 168908,\n",
       "         4: 147710,\n",
       "         5: 147201,\n",
       "         6: 147253,\n",
       "         7: 218899,\n",
       "         8: 181869,\n",
       "         9: 203743})"
      ]
     },
     "execution_count": 8,
     "metadata": {},
     "output_type": "execute_result"
    }
   ],
   "source": [
    "Counter(mat['stimulus'][:,0])"
   ]
  },
  {
   "cell_type": "code",
   "execution_count": 9,
   "id": "89049049",
   "metadata": {},
   "outputs": [
    {
     "name": "stdout",
     "output_type": "stream",
     "text": [
      "Total recording duration for this subject 1: 1146.263 seconds\n",
      "Creating time axis: \n",
      "beg [0.     0.0005 0.001  0.0015 0.002 ] \n",
      "end [1146.2605 1146.261  1146.2615 1146.262  1146.2625]\n",
      "\n",
      "sEMG Channels: 16\n"
     ]
    }
   ],
   "source": [
    "FS = 2000\n",
    "N_CH = mat['emg'].shape[1]\n",
    "\n",
    "rec_duration = mat['emg'].shape[0]/FS\n",
    "rec_time = np.arange(0,rec_duration, 1/FS)\n",
    "print(f\"Total recording duration for this subject {subject}: {rec_duration} seconds\")\n",
    "print(f\"Creating time axis: \\nbeg {rec_time[:5]} \\nend {rec_time[-5:]}\\n\")\n",
    "print(f\"sEMG Channels: {N_CH}\")"
   ]
  },
  {
   "cell_type": "code",
   "execution_count": 42,
   "id": "3288b13c",
   "metadata": {},
   "outputs": [
    {
     "data": {
      "text/html": [
       "<div>\n",
       "<style scoped>\n",
       "    .dataframe tbody tr th:only-of-type {\n",
       "        vertical-align: middle;\n",
       "    }\n",
       "\n",
       "    .dataframe tbody tr th {\n",
       "        vertical-align: top;\n",
       "    }\n",
       "\n",
       "    .dataframe thead th {\n",
       "        text-align: right;\n",
       "    }\n",
       "</style>\n",
       "<table border=\"1\" class=\"dataframe\">\n",
       "  <thead>\n",
       "    <tr style=\"text-align: right;\">\n",
       "      <th></th>\n",
       "      <th>0</th>\n",
       "      <th>1</th>\n",
       "      <th>2</th>\n",
       "      <th>3</th>\n",
       "      <th>4</th>\n",
       "      <th>5</th>\n",
       "      <th>6</th>\n",
       "      <th>7</th>\n",
       "      <th>8</th>\n",
       "      <th>9</th>\n",
       "      <th>10</th>\n",
       "      <th>11</th>\n",
       "      <th>12</th>\n",
       "      <th>13</th>\n",
       "      <th>14</th>\n",
       "      <th>15</th>\n",
       "      <th>time</th>\n",
       "      <th>restimulus</th>\n",
       "      <th>rerepetition</th>\n",
       "      <th>trial</th>\n",
       "    </tr>\n",
       "  </thead>\n",
       "  <tbody>\n",
       "    <tr>\n",
       "      <th>0</th>\n",
       "      <td>-1.221389e-05</td>\n",
       "      <td>0.000013</td>\n",
       "      <td>1.417190e-06</td>\n",
       "      <td>-1.450381e-06</td>\n",
       "      <td>8.927418e-07</td>\n",
       "      <td>1.276400e-06</td>\n",
       "      <td>-0.000004</td>\n",
       "      <td>-2.097067e-06</td>\n",
       "      <td>-1.083111e-05</td>\n",
       "      <td>-0.000002</td>\n",
       "      <td>-1.004354e-06</td>\n",
       "      <td>-1.922719e-06</td>\n",
       "      <td>2.320445e-06</td>\n",
       "      <td>2.454797e-06</td>\n",
       "      <td>-3.563558e-07</td>\n",
       "      <td>3.989980e-06</td>\n",
       "      <td>0.0000</td>\n",
       "      <td>0</td>\n",
       "      <td>1</td>\n",
       "      <td>1</td>\n",
       "    </tr>\n",
       "    <tr>\n",
       "      <th>1</th>\n",
       "      <td>-1.103459e-05</td>\n",
       "      <td>0.000012</td>\n",
       "      <td>-8.082592e-07</td>\n",
       "      <td>-2.964917e-06</td>\n",
       "      <td>1.620494e-06</td>\n",
       "      <td>1.319671e-07</td>\n",
       "      <td>-0.000002</td>\n",
       "      <td>-2.095100e-06</td>\n",
       "      <td>-7.260927e-06</td>\n",
       "      <td>-0.000001</td>\n",
       "      <td>2.537384e-06</td>\n",
       "      <td>-4.171008e-07</td>\n",
       "      <td>1.630039e-06</td>\n",
       "      <td>7.577238e-06</td>\n",
       "      <td>-7.699463e-08</td>\n",
       "      <td>9.715459e-06</td>\n",
       "      <td>0.0005</td>\n",
       "      <td>0</td>\n",
       "      <td>1</td>\n",
       "      <td>1</td>\n",
       "    </tr>\n",
       "    <tr>\n",
       "      <th>2</th>\n",
       "      <td>-5.559594e-07</td>\n",
       "      <td>0.000010</td>\n",
       "      <td>-9.035197e-07</td>\n",
       "      <td>-8.051478e-07</td>\n",
       "      <td>1.478138e-06</td>\n",
       "      <td>-3.573351e-06</td>\n",
       "      <td>-0.000002</td>\n",
       "      <td>-2.915417e-07</td>\n",
       "      <td>-9.740975e-06</td>\n",
       "      <td>0.000005</td>\n",
       "      <td>6.192121e-06</td>\n",
       "      <td>3.181949e-06</td>\n",
       "      <td>-3.058749e-06</td>\n",
       "      <td>9.751569e-06</td>\n",
       "      <td>-2.545980e-06</td>\n",
       "      <td>6.370443e-06</td>\n",
       "      <td>0.0010</td>\n",
       "      <td>0</td>\n",
       "      <td>1</td>\n",
       "      <td>1</td>\n",
       "    </tr>\n",
       "    <tr>\n",
       "      <th>3</th>\n",
       "      <td>4.855902e-06</td>\n",
       "      <td>0.000007</td>\n",
       "      <td>-9.693842e-07</td>\n",
       "      <td>1.651934e-07</td>\n",
       "      <td>2.062703e-06</td>\n",
       "      <td>-5.654433e-06</td>\n",
       "      <td>-0.000003</td>\n",
       "      <td>5.621391e-07</td>\n",
       "      <td>-1.075601e-05</td>\n",
       "      <td>0.000007</td>\n",
       "      <td>5.304991e-06</td>\n",
       "      <td>4.584006e-06</td>\n",
       "      <td>-4.873819e-06</td>\n",
       "      <td>9.570110e-06</td>\n",
       "      <td>-3.513715e-06</td>\n",
       "      <td>3.834101e-06</td>\n",
       "      <td>0.0015</td>\n",
       "      <td>0</td>\n",
       "      <td>1</td>\n",
       "      <td>1</td>\n",
       "    </tr>\n",
       "    <tr>\n",
       "      <th>4</th>\n",
       "      <td>3.194906e-06</td>\n",
       "      <td>0.000004</td>\n",
       "      <td>-1.149470e-06</td>\n",
       "      <td>7.105700e-07</td>\n",
       "      <td>6.009558e-06</td>\n",
       "      <td>-5.201861e-06</td>\n",
       "      <td>-0.000006</td>\n",
       "      <td>-2.785616e-07</td>\n",
       "      <td>-1.131153e-05</td>\n",
       "      <td>0.000005</td>\n",
       "      <td>-7.471688e-07</td>\n",
       "      <td>3.766795e-06</td>\n",
       "      <td>-3.386660e-06</td>\n",
       "      <td>7.087386e-06</td>\n",
       "      <td>-2.335792e-06</td>\n",
       "      <td>2.740356e-06</td>\n",
       "      <td>0.0020</td>\n",
       "      <td>0</td>\n",
       "      <td>1</td>\n",
       "      <td>1</td>\n",
       "    </tr>\n",
       "    <tr>\n",
       "      <th>...</th>\n",
       "      <td>...</td>\n",
       "      <td>...</td>\n",
       "      <td>...</td>\n",
       "      <td>...</td>\n",
       "      <td>...</td>\n",
       "      <td>...</td>\n",
       "      <td>...</td>\n",
       "      <td>...</td>\n",
       "      <td>...</td>\n",
       "      <td>...</td>\n",
       "      <td>...</td>\n",
       "      <td>...</td>\n",
       "      <td>...</td>\n",
       "      <td>...</td>\n",
       "      <td>...</td>\n",
       "      <td>...</td>\n",
       "      <td>...</td>\n",
       "      <td>...</td>\n",
       "      <td>...</td>\n",
       "      <td>...</td>\n",
       "    </tr>\n",
       "    <tr>\n",
       "      <th>2292521</th>\n",
       "      <td>-1.127882e-05</td>\n",
       "      <td>-0.000025</td>\n",
       "      <td>2.190676e-06</td>\n",
       "      <td>-5.886192e-07</td>\n",
       "      <td>1.549841e-06</td>\n",
       "      <td>-1.165227e-05</td>\n",
       "      <td>0.000003</td>\n",
       "      <td>9.473919e-07</td>\n",
       "      <td>-1.939085e-05</td>\n",
       "      <td>0.000004</td>\n",
       "      <td>3.950131e-06</td>\n",
       "      <td>-1.714167e-06</td>\n",
       "      <td>2.530184e-06</td>\n",
       "      <td>-2.106380e-09</td>\n",
       "      <td>5.636092e-07</td>\n",
       "      <td>-1.418455e-06</td>\n",
       "      <td>1146.2605</td>\n",
       "      <td>0</td>\n",
       "      <td>0</td>\n",
       "      <td>181</td>\n",
       "    </tr>\n",
       "    <tr>\n",
       "      <th>2292522</th>\n",
       "      <td>-6.902535e-06</td>\n",
       "      <td>-0.000018</td>\n",
       "      <td>1.813184e-06</td>\n",
       "      <td>-4.670166e-07</td>\n",
       "      <td>-3.907485e-07</td>\n",
       "      <td>-9.584307e-06</td>\n",
       "      <td>0.000004</td>\n",
       "      <td>2.487363e-06</td>\n",
       "      <td>2.300774e-06</td>\n",
       "      <td>0.000006</td>\n",
       "      <td>4.020597e-06</td>\n",
       "      <td>2.761341e-06</td>\n",
       "      <td>3.356033e-07</td>\n",
       "      <td>-1.966260e-07</td>\n",
       "      <td>-1.343064e-06</td>\n",
       "      <td>3.686060e-07</td>\n",
       "      <td>1146.2610</td>\n",
       "      <td>0</td>\n",
       "      <td>0</td>\n",
       "      <td>181</td>\n",
       "    </tr>\n",
       "    <tr>\n",
       "      <th>2292523</th>\n",
       "      <td>-3.510863e-06</td>\n",
       "      <td>-0.000013</td>\n",
       "      <td>1.334940e-06</td>\n",
       "      <td>-3.808959e-07</td>\n",
       "      <td>-3.913534e-07</td>\n",
       "      <td>-6.570054e-06</td>\n",
       "      <td>0.000005</td>\n",
       "      <td>4.334066e-06</td>\n",
       "      <td>1.173969e-05</td>\n",
       "      <td>0.000008</td>\n",
       "      <td>3.105642e-06</td>\n",
       "      <td>4.143712e-06</td>\n",
       "      <td>-1.022695e-06</td>\n",
       "      <td>-3.462154e-07</td>\n",
       "      <td>-2.296284e-06</td>\n",
       "      <td>1.267765e-06</td>\n",
       "      <td>1146.2615</td>\n",
       "      <td>0</td>\n",
       "      <td>0</td>\n",
       "      <td>181</td>\n",
       "    </tr>\n",
       "    <tr>\n",
       "      <th>2292524</th>\n",
       "      <td>-9.161474e-07</td>\n",
       "      <td>-0.000014</td>\n",
       "      <td>3.938582e-07</td>\n",
       "      <td>-3.770580e-07</td>\n",
       "      <td>2.255342e-06</td>\n",
       "      <td>-3.746801e-06</td>\n",
       "      <td>0.000004</td>\n",
       "      <td>6.020050e-06</td>\n",
       "      <td>5.710281e-07</td>\n",
       "      <td>0.000010</td>\n",
       "      <td>5.021560e-07</td>\n",
       "      <td>2.347920e-06</td>\n",
       "      <td>-1.288560e-06</td>\n",
       "      <td>-1.884681e-06</td>\n",
       "      <td>-2.812167e-06</td>\n",
       "      <td>1.258141e-07</td>\n",
       "      <td>1146.2620</td>\n",
       "      <td>0</td>\n",
       "      <td>0</td>\n",
       "      <td>181</td>\n",
       "    </tr>\n",
       "    <tr>\n",
       "      <th>2292525</th>\n",
       "      <td>8.834922e-08</td>\n",
       "      <td>-0.000013</td>\n",
       "      <td>-2.024826e-07</td>\n",
       "      <td>-5.793020e-07</td>\n",
       "      <td>2.450302e-06</td>\n",
       "      <td>-2.839692e-06</td>\n",
       "      <td>0.000004</td>\n",
       "      <td>6.370400e-06</td>\n",
       "      <td>2.488030e-06</td>\n",
       "      <td>0.000010</td>\n",
       "      <td>9.478896e-08</td>\n",
       "      <td>1.988721e-06</td>\n",
       "      <td>-4.550051e-07</td>\n",
       "      <td>-2.323832e-06</td>\n",
       "      <td>-3.337289e-06</td>\n",
       "      <td>1.147247e-07</td>\n",
       "      <td>1146.2625</td>\n",
       "      <td>0</td>\n",
       "      <td>0</td>\n",
       "      <td>181</td>\n",
       "    </tr>\n",
       "  </tbody>\n",
       "</table>\n",
       "<p>2292526 rows × 20 columns</p>\n",
       "</div>"
      ],
      "text/plain": [
       "                    0         1             2             3             4  \\\n",
       "0       -1.221389e-05  0.000013  1.417190e-06 -1.450381e-06  8.927418e-07   \n",
       "1       -1.103459e-05  0.000012 -8.082592e-07 -2.964917e-06  1.620494e-06   \n",
       "2       -5.559594e-07  0.000010 -9.035197e-07 -8.051478e-07  1.478138e-06   \n",
       "3        4.855902e-06  0.000007 -9.693842e-07  1.651934e-07  2.062703e-06   \n",
       "4        3.194906e-06  0.000004 -1.149470e-06  7.105700e-07  6.009558e-06   \n",
       "...               ...       ...           ...           ...           ...   \n",
       "2292521 -1.127882e-05 -0.000025  2.190676e-06 -5.886192e-07  1.549841e-06   \n",
       "2292522 -6.902535e-06 -0.000018  1.813184e-06 -4.670166e-07 -3.907485e-07   \n",
       "2292523 -3.510863e-06 -0.000013  1.334940e-06 -3.808959e-07 -3.913534e-07   \n",
       "2292524 -9.161474e-07 -0.000014  3.938582e-07 -3.770580e-07  2.255342e-06   \n",
       "2292525  8.834922e-08 -0.000013 -2.024826e-07 -5.793020e-07  2.450302e-06   \n",
       "\n",
       "                    5         6             7             8         9  \\\n",
       "0        1.276400e-06 -0.000004 -2.097067e-06 -1.083111e-05 -0.000002   \n",
       "1        1.319671e-07 -0.000002 -2.095100e-06 -7.260927e-06 -0.000001   \n",
       "2       -3.573351e-06 -0.000002 -2.915417e-07 -9.740975e-06  0.000005   \n",
       "3       -5.654433e-06 -0.000003  5.621391e-07 -1.075601e-05  0.000007   \n",
       "4       -5.201861e-06 -0.000006 -2.785616e-07 -1.131153e-05  0.000005   \n",
       "...               ...       ...           ...           ...       ...   \n",
       "2292521 -1.165227e-05  0.000003  9.473919e-07 -1.939085e-05  0.000004   \n",
       "2292522 -9.584307e-06  0.000004  2.487363e-06  2.300774e-06  0.000006   \n",
       "2292523 -6.570054e-06  0.000005  4.334066e-06  1.173969e-05  0.000008   \n",
       "2292524 -3.746801e-06  0.000004  6.020050e-06  5.710281e-07  0.000010   \n",
       "2292525 -2.839692e-06  0.000004  6.370400e-06  2.488030e-06  0.000010   \n",
       "\n",
       "                   10            11            12            13            14  \\\n",
       "0       -1.004354e-06 -1.922719e-06  2.320445e-06  2.454797e-06 -3.563558e-07   \n",
       "1        2.537384e-06 -4.171008e-07  1.630039e-06  7.577238e-06 -7.699463e-08   \n",
       "2        6.192121e-06  3.181949e-06 -3.058749e-06  9.751569e-06 -2.545980e-06   \n",
       "3        5.304991e-06  4.584006e-06 -4.873819e-06  9.570110e-06 -3.513715e-06   \n",
       "4       -7.471688e-07  3.766795e-06 -3.386660e-06  7.087386e-06 -2.335792e-06   \n",
       "...               ...           ...           ...           ...           ...   \n",
       "2292521  3.950131e-06 -1.714167e-06  2.530184e-06 -2.106380e-09  5.636092e-07   \n",
       "2292522  4.020597e-06  2.761341e-06  3.356033e-07 -1.966260e-07 -1.343064e-06   \n",
       "2292523  3.105642e-06  4.143712e-06 -1.022695e-06 -3.462154e-07 -2.296284e-06   \n",
       "2292524  5.021560e-07  2.347920e-06 -1.288560e-06 -1.884681e-06 -2.812167e-06   \n",
       "2292525  9.478896e-08  1.988721e-06 -4.550051e-07 -2.323832e-06 -3.337289e-06   \n",
       "\n",
       "                   15       time  restimulus  rerepetition  trial  \n",
       "0        3.989980e-06     0.0000           0             1      1  \n",
       "1        9.715459e-06     0.0005           0             1      1  \n",
       "2        6.370443e-06     0.0010           0             1      1  \n",
       "3        3.834101e-06     0.0015           0             1      1  \n",
       "4        2.740356e-06     0.0020           0             1      1  \n",
       "...               ...        ...         ...           ...    ...  \n",
       "2292521 -1.418455e-06  1146.2605           0             0    181  \n",
       "2292522  3.686060e-07  1146.2610           0             0    181  \n",
       "2292523  1.267765e-06  1146.2615           0             0    181  \n",
       "2292524  1.258141e-07  1146.2620           0             0    181  \n",
       "2292525  1.147247e-07  1146.2625           0             0    181  \n",
       "\n",
       "[2292526 rows x 20 columns]"
      ]
     },
     "execution_count": 42,
     "metadata": {},
     "output_type": "execute_result"
    }
   ],
   "source": [
    "# loading into df for easier handling\n",
    "emg_df = pd.DataFrame(mat['emg'])\n",
    "emg_df['time'] = rec_time\n",
    "emg_df['restimulus'] = mat['restimulus']\n",
    "emg_df['rerepetition'] = mat['rerepetition']\n",
    "emg_df['trial'] = (emg_df['restimulus'] != emg_df['restimulus'].shift()).cumsum()\n",
    "\n",
    "emg_df"
   ]
  },
  {
   "cell_type": "markdown",
   "id": "97164306",
   "metadata": {},
   "source": [
    "## EMG Summary statistics"
   ]
  },
  {
   "cell_type": "code",
   "execution_count": 14,
   "id": "18fff8a4",
   "metadata": {},
   "outputs": [
    {
     "data": {
      "text/html": [
       "<div>\n",
       "<style scoped>\n",
       "    .dataframe tbody tr th:only-of-type {\n",
       "        vertical-align: middle;\n",
       "    }\n",
       "\n",
       "    .dataframe tbody tr th {\n",
       "        vertical-align: top;\n",
       "    }\n",
       "\n",
       "    .dataframe thead th {\n",
       "        text-align: right;\n",
       "    }\n",
       "</style>\n",
       "<table border=\"1\" class=\"dataframe\">\n",
       "  <thead>\n",
       "    <tr style=\"text-align: right;\">\n",
       "      <th></th>\n",
       "      <th>0</th>\n",
       "      <th>1</th>\n",
       "      <th>2</th>\n",
       "      <th>3</th>\n",
       "      <th>4</th>\n",
       "      <th>5</th>\n",
       "      <th>6</th>\n",
       "      <th>7</th>\n",
       "      <th>8</th>\n",
       "      <th>9</th>\n",
       "      <th>10</th>\n",
       "      <th>11</th>\n",
       "      <th>12</th>\n",
       "      <th>13</th>\n",
       "      <th>14</th>\n",
       "      <th>15</th>\n",
       "    </tr>\n",
       "  </thead>\n",
       "  <tbody>\n",
       "    <tr>\n",
       "      <th>count</th>\n",
       "      <td>2.292526e+06</td>\n",
       "      <td>2.292526e+06</td>\n",
       "      <td>2.292526e+06</td>\n",
       "      <td>2.292526e+06</td>\n",
       "      <td>2.292526e+06</td>\n",
       "      <td>2.292526e+06</td>\n",
       "      <td>2.292526e+06</td>\n",
       "      <td>2.292526e+06</td>\n",
       "      <td>2.292526e+06</td>\n",
       "      <td>2.292526e+06</td>\n",
       "      <td>2.292526e+06</td>\n",
       "      <td>2.292526e+06</td>\n",
       "      <td>2.292526e+06</td>\n",
       "      <td>2.292526e+06</td>\n",
       "      <td>2.292526e+06</td>\n",
       "      <td>2.292526e+06</td>\n",
       "    </tr>\n",
       "    <tr>\n",
       "      <th>mean</th>\n",
       "      <td>8.891743e-11</td>\n",
       "      <td>5.902483e-11</td>\n",
       "      <td>5.352779e-11</td>\n",
       "      <td>7.313317e-11</td>\n",
       "      <td>-2.131575e-11</td>\n",
       "      <td>1.968766e-12</td>\n",
       "      <td>6.985335e-11</td>\n",
       "      <td>-2.796358e-11</td>\n",
       "      <td>5.736444e-10</td>\n",
       "      <td>5.324235e-11</td>\n",
       "      <td>5.865085e-11</td>\n",
       "      <td>-1.054768e-10</td>\n",
       "      <td>-3.212092e-11</td>\n",
       "      <td>6.646413e-11</td>\n",
       "      <td>-8.402531e-11</td>\n",
       "      <td>-7.183065e-11</td>\n",
       "    </tr>\n",
       "    <tr>\n",
       "      <th>std</th>\n",
       "      <td>3.348880e-05</td>\n",
       "      <td>4.650078e-05</td>\n",
       "      <td>5.030264e-06</td>\n",
       "      <td>4.326532e-06</td>\n",
       "      <td>1.287338e-05</td>\n",
       "      <td>4.067726e-05</td>\n",
       "      <td>1.284157e-05</td>\n",
       "      <td>1.564372e-05</td>\n",
       "      <td>5.281475e-05</td>\n",
       "      <td>1.289586e-05</td>\n",
       "      <td>5.528081e-06</td>\n",
       "      <td>7.244788e-06</td>\n",
       "      <td>3.854335e-05</td>\n",
       "      <td>2.641320e-05</td>\n",
       "      <td>1.139786e-05</td>\n",
       "      <td>1.529601e-05</td>\n",
       "    </tr>\n",
       "    <tr>\n",
       "      <th>min</th>\n",
       "      <td>-9.152096e-04</td>\n",
       "      <td>-1.942183e-03</td>\n",
       "      <td>-9.207383e-05</td>\n",
       "      <td>-5.414639e-05</td>\n",
       "      <td>-6.541168e-04</td>\n",
       "      <td>-1.144917e-03</td>\n",
       "      <td>-2.693658e-04</td>\n",
       "      <td>-4.631332e-04</td>\n",
       "      <td>-1.069842e-03</td>\n",
       "      <td>-3.568869e-04</td>\n",
       "      <td>-4.717583e-05</td>\n",
       "      <td>-2.395028e-04</td>\n",
       "      <td>-1.448422e-03</td>\n",
       "      <td>-7.321497e-04</td>\n",
       "      <td>-4.722421e-04</td>\n",
       "      <td>-5.471918e-04</td>\n",
       "    </tr>\n",
       "    <tr>\n",
       "      <th>25%</th>\n",
       "      <td>-8.689720e-06</td>\n",
       "      <td>-1.030367e-05</td>\n",
       "      <td>-2.722290e-06</td>\n",
       "      <td>-2.621792e-06</td>\n",
       "      <td>-3.740070e-06</td>\n",
       "      <td>-6.066401e-06</td>\n",
       "      <td>-4.344834e-06</td>\n",
       "      <td>-3.680546e-06</td>\n",
       "      <td>-1.786695e-05</td>\n",
       "      <td>-6.242565e-06</td>\n",
       "      <td>-3.551784e-06</td>\n",
       "      <td>-3.801563e-06</td>\n",
       "      <td>-6.066122e-06</td>\n",
       "      <td>-6.318473e-06</td>\n",
       "      <td>-3.056872e-06</td>\n",
       "      <td>-3.726380e-06</td>\n",
       "    </tr>\n",
       "    <tr>\n",
       "      <th>50%</th>\n",
       "      <td>1.263319e-06</td>\n",
       "      <td>2.048797e-06</td>\n",
       "      <td>9.961008e-08</td>\n",
       "      <td>1.478265e-08</td>\n",
       "      <td>2.681778e-07</td>\n",
       "      <td>2.058363e-07</td>\n",
       "      <td>-4.720841e-08</td>\n",
       "      <td>1.955004e-07</td>\n",
       "      <td>2.135691e-06</td>\n",
       "      <td>-1.695828e-07</td>\n",
       "      <td>-1.331704e-07</td>\n",
       "      <td>-1.532317e-07</td>\n",
       "      <td>-3.739281e-07</td>\n",
       "      <td>5.401074e-07</td>\n",
       "      <td>8.022545e-08</td>\n",
       "      <td>2.166049e-07</td>\n",
       "    </tr>\n",
       "    <tr>\n",
       "      <th>75%</th>\n",
       "      <td>1.028583e-05</td>\n",
       "      <td>1.559764e-05</td>\n",
       "      <td>2.891269e-06</td>\n",
       "      <td>2.660285e-06</td>\n",
       "      <td>4.509030e-06</td>\n",
       "      <td>7.364235e-06</td>\n",
       "      <td>4.431626e-06</td>\n",
       "      <td>3.984501e-06</td>\n",
       "      <td>2.169075e-05</td>\n",
       "      <td>6.256900e-06</td>\n",
       "      <td>3.446276e-06</td>\n",
       "      <td>3.686605e-06</td>\n",
       "      <td>4.926790e-06</td>\n",
       "      <td>8.412376e-06</td>\n",
       "      <td>3.326114e-06</td>\n",
       "      <td>4.091869e-06</td>\n",
       "    </tr>\n",
       "    <tr>\n",
       "      <th>max</th>\n",
       "      <td>5.866060e-04</td>\n",
       "      <td>1.272647e-03</td>\n",
       "      <td>8.314147e-05</td>\n",
       "      <td>4.091724e-05</td>\n",
       "      <td>5.052245e-04</td>\n",
       "      <td>9.690431e-04</td>\n",
       "      <td>2.704328e-04</td>\n",
       "      <td>4.218504e-04</td>\n",
       "      <td>6.151334e-04</td>\n",
       "      <td>3.195293e-04</td>\n",
       "      <td>6.285966e-05</td>\n",
       "      <td>2.030292e-04</td>\n",
       "      <td>1.858117e-03</td>\n",
       "      <td>4.854359e-04</td>\n",
       "      <td>3.069094e-04</td>\n",
       "      <td>6.572311e-04</td>\n",
       "    </tr>\n",
       "  </tbody>\n",
       "</table>\n",
       "</div>"
      ],
      "text/plain": [
       "                  0             1             2             3             4  \\\n",
       "count  2.292526e+06  2.292526e+06  2.292526e+06  2.292526e+06  2.292526e+06   \n",
       "mean   8.891743e-11  5.902483e-11  5.352779e-11  7.313317e-11 -2.131575e-11   \n",
       "std    3.348880e-05  4.650078e-05  5.030264e-06  4.326532e-06  1.287338e-05   \n",
       "min   -9.152096e-04 -1.942183e-03 -9.207383e-05 -5.414639e-05 -6.541168e-04   \n",
       "25%   -8.689720e-06 -1.030367e-05 -2.722290e-06 -2.621792e-06 -3.740070e-06   \n",
       "50%    1.263319e-06  2.048797e-06  9.961008e-08  1.478265e-08  2.681778e-07   \n",
       "75%    1.028583e-05  1.559764e-05  2.891269e-06  2.660285e-06  4.509030e-06   \n",
       "max    5.866060e-04  1.272647e-03  8.314147e-05  4.091724e-05  5.052245e-04   \n",
       "\n",
       "                  5             6             7             8             9  \\\n",
       "count  2.292526e+06  2.292526e+06  2.292526e+06  2.292526e+06  2.292526e+06   \n",
       "mean   1.968766e-12  6.985335e-11 -2.796358e-11  5.736444e-10  5.324235e-11   \n",
       "std    4.067726e-05  1.284157e-05  1.564372e-05  5.281475e-05  1.289586e-05   \n",
       "min   -1.144917e-03 -2.693658e-04 -4.631332e-04 -1.069842e-03 -3.568869e-04   \n",
       "25%   -6.066401e-06 -4.344834e-06 -3.680546e-06 -1.786695e-05 -6.242565e-06   \n",
       "50%    2.058363e-07 -4.720841e-08  1.955004e-07  2.135691e-06 -1.695828e-07   \n",
       "75%    7.364235e-06  4.431626e-06  3.984501e-06  2.169075e-05  6.256900e-06   \n",
       "max    9.690431e-04  2.704328e-04  4.218504e-04  6.151334e-04  3.195293e-04   \n",
       "\n",
       "                 10            11            12            13            14  \\\n",
       "count  2.292526e+06  2.292526e+06  2.292526e+06  2.292526e+06  2.292526e+06   \n",
       "mean   5.865085e-11 -1.054768e-10 -3.212092e-11  6.646413e-11 -8.402531e-11   \n",
       "std    5.528081e-06  7.244788e-06  3.854335e-05  2.641320e-05  1.139786e-05   \n",
       "min   -4.717583e-05 -2.395028e-04 -1.448422e-03 -7.321497e-04 -4.722421e-04   \n",
       "25%   -3.551784e-06 -3.801563e-06 -6.066122e-06 -6.318473e-06 -3.056872e-06   \n",
       "50%   -1.331704e-07 -1.532317e-07 -3.739281e-07  5.401074e-07  8.022545e-08   \n",
       "75%    3.446276e-06  3.686605e-06  4.926790e-06  8.412376e-06  3.326114e-06   \n",
       "max    6.285966e-05  2.030292e-04  1.858117e-03  4.854359e-04  3.069094e-04   \n",
       "\n",
       "                 15  \n",
       "count  2.292526e+06  \n",
       "mean  -7.183065e-11  \n",
       "std    1.529601e-05  \n",
       "min   -5.471918e-04  \n",
       "25%   -3.726380e-06  \n",
       "50%    2.166049e-07  \n",
       "75%    4.091869e-06  \n",
       "max    6.572311e-04  "
      ]
     },
     "execution_count": 14,
     "metadata": {},
     "output_type": "execute_result"
    }
   ],
   "source": [
    "df = emg_df.iloc[:,:N_CH]  # shorthand for extracting only channel columns\n",
    "df.describe()"
   ]
  },
  {
   "cell_type": "code",
   "execution_count": 21,
   "id": "1688b714",
   "metadata": {},
   "outputs": [
    {
     "data": {
      "image/png": "[encoded data removed]",
      "text/plain": [
       "<Figure size 1080x360 with 2 Axes>"
      ]
     },
     "metadata": {
      "needs_background": "light"
     },
     "output_type": "display_data"
    }
   ],
   "source": [
    "ch_mean = df.mean()\n",
    "ch_std = df.std()\n",
    "\n",
    "\n",
    "fig = plt.figure(figsize=(15,5))\n",
    "gs = gridspec.GridSpec(ncols=2, nrows=1)\n",
    "ax = fig.add_subplot(gs[0])\n",
    "\n",
    "df.mean().plot(kind='bar', legend=True, ax= ax, title=\"Mean EMG Amplitudes\")\n",
    "plt.xlabel('Channels')\n",
    "\n",
    "ax = fig.add_subplot(gs[1])\n",
    "ch_mean.plot(yerr=ch_std, kind='bar', title='Std EMG Amplitudes')\n",
    "plt.xlabel('Channels');\n",
    "\n",
    "# ch_mean.plot(kind = \"barh\", y = \"mean\", legend = False,\n",
    "#         title = \"Average Prices\", xerr = \"std\")"
   ]
  },
  {
   "cell_type": "markdown",
   "id": "613a5f51",
   "metadata": {},
   "source": [
    "There is a high variance across the channels but also for a single channel between the different gestures"
   ]
  },
  {
   "cell_type": "markdown",
   "id": "d59fb755",
   "metadata": {},
   "source": [
    "### Gestures Duration"
   ]
  },
  {
   "cell_type": "code",
   "execution_count": 80,
   "id": "75fec6a8",
   "metadata": {
    "scrolled": false
   },
   "outputs": [
    {
     "name": "stdout",
     "output_type": "stream",
     "text": [
      "Duration of each gesture\n",
      "restimulus\n",
      "0      9.9470\n",
      "1    113.4495\n",
      "2    116.2240\n",
      "3    128.2265\n",
      "4    117.7705\n",
      "5    117.6720\n",
      "6    116.7165\n",
      "7    153.3750\n",
      "8    132.7995\n",
      "9    135.1430\n",
      "Name: time, dtype: float64\n"
     ]
    },
    {
     "data": {
      "image/png": "[encoded data removed]",
      "text/plain": [
       "<Figure size 1440x360 with 3 Axes>"
      ]
     },
     "metadata": {
      "needs_background": "light"
     },
     "output_type": "display_data"
    }
   ],
   "source": [
    "# The first time a new gesture is introduced: i.e time for all trials per gesture\n",
    "# Adjust the last restimulus duration\n",
    "gesture_first_time = emg_df.groupby('restimulus').first()['time'] \n",
    "gestures_duration = gesture_first_time.diff().shift(-1)\n",
    "gestures_duration[9] = emg_df.groupby('restimulus').last()['time'][9] - emg_df.groupby('restimulus').first()['time'][9]\n",
    "\n",
    "fig = plt.figure(figsize=(20,5))\n",
    "gs = gridspec.GridSpec(nrows=1, ncols=3)\n",
    "ax = fig.add_subplot(gs[0])\n",
    "gesture_first_time.plot(kind='barh', title=\"Start time of first repetition per gesture\", ax= ax)\n",
    "\n",
    "\n",
    "ax = fig.add_subplot(gs[1])\n",
    "gestures_duration.plot(kind='bar', title=\"Duration of each gesture (all repetitions inc. Rest )\", ax= ax,\n",
    "                      ylabel='Time [sec]', xlabel='restimulus')\n",
    "\n",
    "\n",
    "print(f'Duration of each gesture\\n{gestures_duration}')\n",
    "\n",
    "ax = fig.add_subplot(gs[2])\n",
    "exact_stim_duration = emg_df.groupby(['restimulus','trial'])['time'].last() - emg_df.groupby(['restimulus','trial'])['time'].first()\n",
    "exact_stim_duration.groupby('restimulus').mean().plot.bar(title='Avg. Duration per stimulus', ylabel='Time [sec]');"
   ]
  },
  {
   "cell_type": "markdown",
   "id": "11b756a4",
   "metadata": {},
   "source": [
    "**Interpretation**\n",
    "- Rest (0) is the first movement, it takes 9.947 seconds then all repetitions of gesture 1 are performed which take 113.44 seconds and so on.\n",
    "- **Note** that Rest trials are interleaved between the gestures, so the duration of rest here is that of the first repetition only. Also the reported duration for gestures is that of all repetitions including the rest trials in between the repetitions."
   ]
  },
  {
   "cell_type": "code",
   "execution_count": 67,
   "id": "a6136181",
   "metadata": {},
   "outputs": [
    {
     "data": {
      "text/plain": [
       "<AxesSubplot:xlabel='restimulus'>"
      ]
     },
     "execution_count": 67,
     "metadata": {},
     "output_type": "execute_result"
    },
    {
     "data": {
      "image/png": "[encoded data removed]",
      "text/plain": [
       "<Figure size 432x288 with 1 Axes>"
      ]
     },
     "metadata": {
      "needs_background": "light"
     },
     "output_type": "display_data"
    }
   ],
   "source": []
  },
  {
   "cell_type": "markdown",
   "id": "d332f5a0",
   "metadata": {},
   "source": [
    "### Mean EMG per gesture"
   ]
  },
  {
   "cell_type": "code",
   "execution_count": 52,
   "id": "9d28cfc8",
   "metadata": {},
   "outputs": [
    {
     "data": {
      "image/png": "[encoded data removed]",
      "text/plain": [
       "<Figure size 1440x648 with 1 Axes>"
      ]
     },
     "metadata": {
      "needs_background": "light"
     },
     "output_type": "display_data"
    }
   ],
   "source": [
    "fig = plt.figure(figsize=(20,9))\n",
    "ax  = fig.add_subplot()\n",
    "emg_df.groupby('restimulus')[np.arange(N_CH)].mean().T.plot.bar(ax=ax, ylabel='Mean amplitudes',\n",
    "                                                               xlabel='Channels',\n",
    "                                                               color=list(COLOR_DICT.values()),\n",
    "                                                               linewidth=1,\n",
    "                                                               width=0.72, rot = 0)\n",
    "\n",
    "ax.tick_params(axis='both', labelsize=14)\n",
    "ax.set_ylabel(ylabel='Mean amplitudes',fontsize=18)\n",
    "ax.set_xlabel(xlabel='Channels',fontsize=18)\n",
    "ax.legend(ncol=5)\n",
    "fig.suptitle('Mean EMG amplitude per stimulus', fontsize=20);\n"
   ]
  },
  {
   "cell_type": "code",
   "execution_count": 55,
   "id": "15fd546b",
   "metadata": {
    "scrolled": false
   },
   "outputs": [
    {
     "data": {
      "text/plain": [
       "<AxesSubplot:>"
      ]
     },
     "execution_count": 55,
     "metadata": {},
     "output_type": "execute_result"
    },
    {
     "data": {
      "image/png": "[encoded data removed]",
      "text/plain": [
       "<Figure size 432x288 with 1 Axes>"
      ]
     },
     "metadata": {
      "needs_background": "light"
     },
     "output_type": "display_data"
    }
   ],
   "source": [
    "# emg_df.groupby('trial').count()\n",
    "# mean ampltitude per stimulus\n",
    "# test = (emg_df.groupby(['restimulus','trial']).mean()).groupby('restimulus')[np.arange(N_CH)].mean()\n",
    "# test.T.plot.bar()"
   ]
  },
  {
   "cell_type": "code",
   "execution_count": null,
   "id": "ecfdf210",
   "metadata": {},
   "outputs": [],
   "source": [
    "emg_df.groupby('restimulus').mean()"
   ]
  },
  {
   "cell_type": "code",
   "execution_count": null,
   "id": "0a970b95",
   "metadata": {
    "scrolled": false
   },
   "outputs": [],
   "source": [
    "emg_df.groupby('restimulus').mean().T"
   ]
  },
  {
   "cell_type": "markdown",
   "id": "09305611",
   "metadata": {},
   "source": [
    "- Channels are selective of the stimulus. For example channel 8 captures more stimuli 2,4,5,8 and 7.\n"
   ]
  },
  {
   "cell_type": "code",
   "execution_count": null,
   "id": "508fe88c",
   "metadata": {},
   "outputs": [],
   "source": [
    "# How correlated are the channels\n",
    "# k = 12 #number of variables for heatmap\n",
    "# cols = df.corr()\n",
    "# cm = df.corr()\n",
    "# plt.figure(figsize=(15,9))\n",
    "# sns.heatmap(cm, annot=True, cmap = 'viridis')"
   ]
  },
  {
   "cell_type": "code",
   "execution_count": null,
   "id": "5fa138d7",
   "metadata": {},
   "outputs": [],
   "source": [
    "# correlation per stimulus\n",
    "emg_gb_stim = emg_df.groupby('restimulus')[np.arange(N_CH)].mean()\n",
    "cm = emg_gb_stim.corr()\n",
    "plt.figure(figsize=(18,9))\n",
    "sns.heatmap(cm, annot=True, cmap = 'viridis')\n",
    "plt.title(\"Channel-wise correlations using mean amplitudes (across all stimuli)\", fontsize=15);\n",
    "plt.xlabel('Channels', fontsize=15)\n",
    "plt.ylabel('Channels',fontsize=15);"
   ]
  },
  {
   "cell_type": "code",
   "execution_count": null,
   "id": "a5ea31bf",
   "metadata": {},
   "outputs": [],
   "source": [
    "# correlation between stimulus using mean amplitudes\n",
    "emg_gb_stim = emg_df.groupby('restimulus')[np.arange(N_CH)].mean().T\n",
    "stimulus_name = {0: 'rest', 1: 'thumb flex/ext',2: ' thumb ab/ad',\n",
    "                 3:' index flex/ext' ,\n",
    "                 4:'mid. flex/ext', 5:'r&l flex/ext',\n",
    "                 6:'index pointer', 7:'cyl. grip', 8:'lateral grip', 9:'tripod grip'}\n",
    "cm = emg_gb_stim.corr()\n",
    "plt.figure(figsize=(18,9))\n",
    "sns.heatmap(cm, annot=True,xticklabels=stimulus_name.values(), yticklabels=stimulus_name.values())\n",
    "# plt.title(\"Correlation between the channels mean amplitudes (across all stimuli)\", fontsize=15);\n",
    "plt.xlabel('Stimulus', fontsize=15)\n",
    "plt.ylabel('Stimulus',fontsize=15);"
   ]
  },
  {
   "cell_type": "code",
   "execution_count": null,
   "id": "e9a60776",
   "metadata": {},
   "outputs": [],
   "source": [
    "cm.sort_values(by=[7])"
   ]
  },
  {
   "cell_type": "code",
   "execution_count": null,
   "id": "b1599cc3",
   "metadata": {},
   "outputs": [],
   "source": [
    "emg_df[(emg_df['restimulus']==0) &]"
   ]
  },
  {
   "cell_type": "code",
   "execution_count": null,
   "id": "f0cbd83f",
   "metadata": {},
   "outputs": [],
   "source": [
    "# quick test\n",
    "# for i in range(1): #loop over stimulus\n",
    "stim_pair = [9,1]\n",
    "stim_0_test = emg_df[emg_df['restimulus']==stim_pair[0]][np.arange(N_CH)].mean(axis=0)\n",
    "stim_1_test = emg_df[emg_df['restimulus']==stim_pair[1]][np.arange(N_CH)].mean(axis=0)\n",
    "\n",
    "\n",
    "np.corrcoef(stim_0_test, stim_1_test)"
   ]
  },
  {
   "cell_type": "markdown",
   "id": "60a84838",
   "metadata": {},
   "source": [
    "To compute the stimulus-wise correlation:\n",
    "- Get the mean of the channels for each stimulus then compute the correlation between the stimuli.\n",
    "\n",
    "**Observe the following**\n",
    "1. High correlation between tripod grip and both thumb flexion/extension and index flex/ext. This makes sense since the same fingers are flexed to perform this grip.\n",
    "2. Surprisingly, rest is also correlated with the grasps.\n"
   ]
  },
  {
   "cell_type": "code",
   "execution_count": null,
   "id": "c2efa6d7",
   "metadata": {},
   "outputs": [],
   "source": [
    "# From a single channel\n",
    "ch = 0\n",
    "plt.figure(figsize=(15,9))\n",
    "plt.plot(rec_time, emg_df[ch],color=COLOR_DICT['midnight_blue'], label=f'Ch{ch}')\n",
    "plt.legend()\n",
    "plt.xlabel('time [s]')\n",
    "plt.ylabel('amplitude')"
   ]
  },
  {
   "cell_type": "code",
   "execution_count": null,
   "id": "378ad68b",
   "metadata": {},
   "outputs": [],
   "source": [
    "# emg_df.groupby('restimulus').count()"
   ]
  },
  {
   "cell_type": "code",
   "execution_count": null,
   "id": "db49317d",
   "metadata": {},
   "outputs": [],
   "source": [
    "plt.figure(figsize=(15,9))\n",
    "# customPalette  = sns.set_palette(sns.color_palette(list(COLOR_DICT.values())))\n",
    "\n",
    "sns.lineplot(data=emg_df, x=\"time\", y=0, hue=\"restimulus\", \n",
    "             palette=sns.color_palette(list(COLOR_DICT.values())))"
   ]
  },
  {
   "cell_type": "code",
   "execution_count": null,
   "id": "ab890305",
   "metadata": {},
   "outputs": [],
   "source": [
    "# Zooming in\n",
    "ch = 0\n",
    "subset_N  = 300000\n",
    "plt.figure(figsize=(15,9))\n",
    "sns.lineplot(data=emg_df.loc[:subset_N], x=\"time\", y=ch, hue=\"restimulus\", \n",
    "             palette=sns.color_palette(list(COLOR_DICT.values()))[:3])\n",
    "plt.xticks(ticks=np.arange(0,150,5));\n",
    "plt.grid(True)\n",
    "plt.title(f\"Channel {ch}\")"
   ]
  },
  {
   "cell_type": "code",
   "execution_count": null,
   "id": "6d70dbb7",
   "metadata": {},
   "outputs": [],
   "source": [
    "\n",
    "# single finger\n",
    "emg_df['rerepetition'] =  mat['rerepetition']\n",
    "single_df = emg_df[(emg_df['restimulus']==1) & (emg_df['rerepetition'] == 1)]\n",
    "ch = 0\n",
    "subset_N  = 300000\n",
    "plt.figure(figsize=(15,9))\n",
    "sns.lineplot(data=single_df, x=\"time\", y=ch, hue=\"restimulus\", \n",
    "             palette=sns.color_palette(list(COLOR_DICT.values()))[:1])\n",
    "# plt.xticks(ticks=np.arange(0,150,5));\n",
    "plt.grid(True)\n",
    "plt.title(f\"Channel {ch}\")\n",
    "\n"
   ]
  },
  {
   "cell_type": "markdown",
   "id": "a06b9c9d",
   "metadata": {},
   "source": [
    "# Glove data"
   ]
  },
  {
   "cell_type": "code",
   "execution_count": null,
   "id": "7fdeed8e",
   "metadata": {},
   "outputs": [],
   "source": [
    "glove_df['rerepetition'].unique()"
   ]
  },
  {
   "cell_type": "code",
   "execution_count": null,
   "id": "92f61cda",
   "metadata": {},
   "outputs": [],
   "source": [
    "glove_df = pd.DataFrame(mat['glove'])\n",
    "glove_df['time'] = rec_time\n",
    "glove_df['restimulus']= mat['restimulus']\n",
    "glove_df['rerepetition']= mat['rerepetition']\n",
    "glove_df['count'] = emg_df['count']\n",
    "\n",
    "glove_df[glove_df['rerepetition']==2]['restimulus'].unique()"
   ]
  },
  {
   "cell_type": "code",
   "execution_count": null,
   "id": "ada27ba3",
   "metadata": {},
   "outputs": [],
   "source": [
    "glove_df.groupby('restimulus')['rerepetition'].first()"
   ]
  },
  {
   "cell_type": "markdown",
   "id": "f2f7559f",
   "metadata": {},
   "source": [
    "## Index Finger Marker"
   ]
  },
  {
   "cell_type": "code",
   "execution_count": null,
   "id": "41e74ee2",
   "metadata": {
    "scrolled": false
   },
   "outputs": [],
   "source": [
    "\n",
    "# single finger\n",
    "# single_df = glove_df[(glove_df['restimulus']==1) & (glove_df['rerepetition'] == 5)] \n",
    "single_finger_trial = glove_df[(glove_df['restimulus']==1) & (glove_df['count'] == 2)]  # manually picking the trial nuumber that would correspond to flex/extend finger\n",
    "\n",
    "\n",
    "print(\"s\")\n",
    "ch = 5  # channel 6 is on the index finger joint\n",
    "subset_N  = 300000\n",
    "plt.figure(figsize=(15,9))\n",
    "sns.lineplot(data=single_finger_trial, x=\"time\", y=ch, hue=\"restimulus\", \n",
    "             palette=sns.color_palette(list(COLOR_DICT.values()))[:1])\n",
    "plt.grid(True)\n",
    "plt.title(f\"Glove data - Channel# {ch}\", fontsize=16)\n",
    "plt.xlabel('time [sec]')\n",
    "# plt.xticks()\n"
   ]
  },
  {
   "cell_type": "code",
   "execution_count": null,
   "id": "bb9887b2",
   "metadata": {},
   "outputs": [],
   "source": [
    "glove_df[glove_df['restimulus']==1]['rerepetition'].unique"
   ]
  },
  {
   "cell_type": "code",
   "execution_count": null,
   "id": "dfe058cd",
   "metadata": {},
   "outputs": [],
   "source": [
    "fig = plt.figure(figsize=(20,5))\n",
    "gs = gridspec.GridSpec(nrows=2, ncols=5)\n",
    "\n",
    "for i, repetition in enumerate(range(1,10)):\n",
    "    ax = fig.add_subplot(gs[i])\n",
    "\n",
    "    single_finger_trial = glove_df[(glove_df['restimulus']==1) & (glove_df['count'] == 2)]  # manually picking the trial nuumber that would correspond to flex/extend finger\n",
    "    gesture_first_time.plot(kind='barh', title=\"Start time of first repetition per gesture\", ax= ax)\n",
    "    plt.xlabel('Time [sec]')\n",
    "\n"
   ]
  },
  {
   "cell_type": "markdown",
   "id": "e4b0b942",
   "metadata": {},
   "source": [
    "### Is the date preprocessed already?\n",
    "\n",
    "*Note: to check if the data is already pre-processed, I can check on the Fourier Transform of the signal and see if the signal is attenuated at frequencies multiple of 50 Hz (power-line interferance)*\n",
    "\n",
    "\n",
    "\n",
    "#### Conventional preprocessing\n",
    "1. Notch filters for the power line interference\n",
    "2. Band pass filters\n",
    "\n",
    "Also from Hyser Paper, a typical pre-processing pipleine looks like:\n",
    "\n",
    "> \"The acquired HD-sEMG signals were first filtered with 10 Hz highpass and 500 Hz lowpass Butterworth filters (both are zero-phase digital filters processing the signals in both the forward and reverse directions, 8-order each direction). A notch filter combination was then used to attenuate the power line interference at 50 Hz and all harmonic components up to 400 Hz. Force data were filtered with a 10 Hz lowpass Butterworth filter (zero-phase digital filter processing the signals in both the forward and reverse directions, 8-order each direction).\"\n",
    "\n",
    "\n"
   ]
  },
  {
   "cell_type": "code",
   "execution_count": null,
   "id": "8d5936ed",
   "metadata": {},
   "outputs": [],
   "source": [
    "# Plot FFT\n",
    "fig = plt.figure(figsize=(15,15))\n",
    "gs = gridspec.GridSpec(3, 1)\n",
    "N = emg_df.shape[0]\n",
    "\n",
    "ax = fig.add_subplot(gs[0])\n",
    "yf = fft( np.array(emg_df[0]))\n",
    "xf = fftfreq(N, 1 / FS)\n",
    "ax.plot(xf, np.abs(yf))\n",
    "plt.xlabel('freq[Hz]')\n",
    "plt.ylabel('FFT Amplitude |X(freq)|')\n",
    "plt.xlim([-200,200])\n",
    "plt.show()"
   ]
  },
  {
   "cell_type": "code",
   "execution_count": null,
   "id": "92e6fd83",
   "metadata": {},
   "outputs": [],
   "source": [
    "# test\n",
    "# sampling rate\n",
    "FS = 300\n",
    "# sampling interval\n",
    "ts = 1.0/FS\n",
    "t = np.arange(0,1,ts)\n",
    "\n",
    "freq = 100\n",
    "x = np.sin(2*np.pi*freq*t)\n",
    "N = x.shape[0]\n",
    "\n",
    "fig = plt.figure(figsize=(15,15))\n",
    "ax = fig.add_subplot(gs[0])\n",
    "yf = fft( x)\n",
    "xf = fftfreq(N, 1 / FS)\n",
    "\n",
    "ax.stem(xf, np.abs(yf))\n",
    "plt.xlabel('freq[Hz]')\n",
    "plt.ylabel('FFT Amplitude |X(freq)|')\n",
    "plt.xlim([-200,200])\n",
    "plt.show()"
   ]
  },
  {
   "cell_type": "markdown",
   "id": "9acab4ec",
   "metadata": {},
   "source": [
    "- note that there is already a notch filter (I think) applied to the signal. Frequencies at multiples of 50 Hz are already attenuated."
   ]
  },
  {
   "cell_type": "code",
   "execution_count": null,
   "id": "2d774ead",
   "metadata": {
    "scrolled": false
   },
   "outputs": [],
   "source": [
    "# emg_df['count'] = (emg_df['restimulus'] != emg_df['restimulus'].shift()).cumsum()\n",
    "# emg_df.iloc[10000:12000]"
   ]
  },
  {
   "cell_type": "code",
   "execution_count": null,
   "id": "0bb8075e",
   "metadata": {},
   "outputs": [],
   "source": [
    "# repetition_dur = emg_df.groupby('count')['restimulus'].count()\n",
    "# repetition_dur/FS"
   ]
  },
  {
   "cell_type": "code",
   "execution_count": null,
   "id": "1fecf4bb",
   "metadata": {},
   "outputs": [],
   "source": [
    "def create_notch_filters(pipeline, samp_freq):\n",
    "    w0 = pipeline['notch_reject']\n",
    "    Q = pipeline['notch_reject'] / pipeline['notch_bandwidth']\n",
    "    fs = samp_freq\n",
    "    coeff_tuples = [(signal.iirnotch(w0 * i, Q, fs)) for i in range(1, 11)]\n",
    "    return coeff_tuples\n",
    "\n",
    "\n",
    "def create_bp_filter(prepipeline, samp_freq):\n",
    "    bp_order, bp_cutoff_freq = prepipeline['bp_order'], prepipeline['bp_cutoff_freq']\n",
    "    b_bp, a_bp = signal.butter(bp_order, bp_cutoff_freq / (samp_freq / 2), btype='bandpass')\n",
    "    return b_bp, a_bp\n",
    "\n",
    "def filter_data(data, b_coeff, a_coeff):\n",
    "    return signal.filtfilt(b_coeff, a_coeff, data)"
   ]
  },
  {
   "cell_type": "code",
   "execution_count": null,
   "id": "e46b95c2",
   "metadata": {},
   "outputs": [],
   "source": [
    "pipeline = {'notch_reject': 50, 'notch_bandwidth': 0.5,\n",
    "           'bp_order':2 , 'bp_cutoff_freq':np.array([2, 500]) }\n",
    "N_CHANNELS = mat['emg'].shape[1]\n"
   ]
  },
  {
   "cell_type": "code",
   "execution_count": null,
   "id": "d3d18f5f",
   "metadata": {},
   "outputs": [],
   "source": [
    "logging.getLogger().setLevel(level=logging.DEBUG)"
   ]
  },
  {
   "cell_type": "code",
   "execution_count": null,
   "id": "c44c1522",
   "metadata": {},
   "outputs": [],
   "source": [
    "notch_filters = create_notch_filters(pipeline, FS)\n",
    "b_bp, a_bp = create_bp_filter(pipeline, FS)\n",
    "\n",
    "emg_filter_notch_df = pd.DataFrame()\n",
    "emg_filter_bp_df = pd.DataFrame()\n",
    "\n",
    "\n",
    "for ch in tqdm(range(1), desc='Filtered'):\n",
    "    # stage 1: notch filters\n",
    "    \n",
    "    for (b_notch, a_notch) in notch_filters:\n",
    "        emg_filter_notch_df[ch] = filter_data(emg_df[ch], b_notch, a_notch)\n",
    "#     logging.debug(\"After notch: {}\".format(temp.shape))\n",
    "\n",
    "    # stage 2: band pass signal \n",
    "    emg_filter_bp_df[ch] = filter_data(emg_filter_notch_df[ch], b_bp, a_bp)\n",
    "#     logging.debug(\"After BP: {}\".format(temp_2.shape))"
   ]
  },
  {
   "cell_type": "code",
   "execution_count": null,
   "id": "01e0cd04",
   "metadata": {},
   "outputs": [],
   "source": [
    "# attach the restimulus column again\n",
    "emg_filter_notch_df['restimulus'] = emg_df['restimulus']\n",
    "emg_filter_bp_df['restimulus'] = emg_df['restimulus']\n",
    "\n",
    "emg_filter_notch_df['time'] = emg_df['time']\n",
    "emg_filter_bp_df['time'] = emg_df['time']"
   ]
  },
  {
   "cell_type": "code",
   "execution_count": null,
   "id": "92316778",
   "metadata": {},
   "outputs": [],
   "source": [
    "# ch = 0\n",
    "# subset = 2000\n",
    "# color_pale = 1\n",
    "# plt.figure(figsize=(15,9))\n",
    "# sns.lineplot(data=emg_df.loc[:subset], x=\"time\", y=ch, hue=\"restimulus\", \n",
    "#              palette=sns.color_palette(list(COLOR_DICT.values()))[:color_pale])\n",
    "# # plt.xticks(ticks=np.arange(0,150,5));\n",
    "# plt.grid(True)\n",
    "# plt.title(f\"Channel {ch}\")\n",
    "\n",
    "# plt.figure(figsize=(15,9))\n",
    "# sns.lineplot(data=emg_filter_notch_df.loc[:subset], x=\"time\", y=ch, hue=\"restimulus\", \n",
    "#              palette=sns.color_palette(list(COLOR_DICT.values()))[:color_pale])\n",
    "# # plt.xticks(ticks=np.arange(0,150,5));\n",
    "# plt.grid(True)\n",
    "# plt.title(f\"Notch Filter Channel {ch}\")\n",
    "\n",
    "\n",
    "# plt.figure(figsize=(15,9))\n",
    "# sns.lineplot(data=emg_filter_bp_df.loc[:subset], x=\"time\", y=ch, hue=\"restimulus\", \n",
    "#              palette=sns.color_palette(list(COLOR_DICT.values()))[:color_pale])\n",
    "# # plt.xticks(ticks=np.arange(0,150,5));\n",
    "# plt.grid(True)\n",
    "# plt.title(f\"Bandpass Filter Channel {ch}\")"
   ]
  },
  {
   "cell_type": "code",
   "execution_count": null,
   "id": "4243af5b",
   "metadata": {},
   "outputs": [],
   "source": [
    "# plt.plot(np.abs(fft(emg_df[0])))\n",
    "# Number of samples in normalized_tone\n",
    "\n",
    "import matplotlib.gridspec as gridspec\n",
    "fig = plt.figure(figsize=(15,15))\n",
    "\n",
    "gs = gridspec.GridSpec(3, 1)\n",
    "\n",
    "N = emg_df.shape[0]\n",
    "\n",
    "ax = fig.add_subplot(gs[0])\n",
    "yf = fft( np.array(emg_df[0]))\n",
    "xf = fftfreq(N, 1 / FS)\n",
    "ax.plot(xf, np.abs(yf))\n",
    "plt.xlim([-200,200])\n",
    "# plt.show()\n",
    "\n",
    "ax = fig.add_subplot(gs[1])\n",
    "yf = fft(np.array(emg_filter_notch_df[0]))\n",
    "xf = fftfreq(N, 1 / FS)\n",
    "ax.plot(xf, np.abs(yf))\n",
    "plt.xlim([-600,500])\n",
    "\n",
    "\n",
    "\n",
    "\n",
    "ax = fig.add_subplot(gs[2])\n",
    "yf = fft(np.array(emg_filter_bp_df[0]))\n",
    "xf = fftfreq(N, 1 / FS)\n",
    "ax.plot(xf, np.abs(yf))\n",
    "plt.xlim([-600,500])\n",
    "\n"
   ]
  },
  {
   "cell_type": "markdown",
   "id": "ed4cb448",
   "metadata": {},
   "source": [
    "## "
   ]
  }
 ],
 "metadata": {
  "kernelspec": {
   "display_name": "snn",
   "language": "python",
   "name": "snn"
  },
  "language_info": {
   "codemirror_mode": {
    "name": "ipython",
    "version": 3
   },
   "file_extension": ".py",
   "mimetype": "text/x-python",
   "name": "python",
   "nbconvert_exporter": "python",
   "pygments_lexer": "ipython3",
   "version": "3.8.12"
  },
  "toc": {
   "base_numbering": 1,
   "nav_menu": {},
   "number_sections": true,
   "sideBar": true,
   "skip_h1_title": false,
   "title_cell": "Table of Contents",
   "title_sidebar": "Contents",
   "toc_cell": false,
   "toc_position": {
    "height": "calc(100% - 180px)",
    "left": "10px",
    "top": "150px",
    "width": "403.1875px"
   },
   "toc_section_display": true,
   "toc_window_display": true
  },
  "varInspector": {
   "cols": {
    "lenName": 16,
    "lenType": 16,
    "lenVar": 40
   },
   "kernels_config": {
    "python": {
     "delete_cmd_postfix": "",
     "delete_cmd_prefix": "del ",
     "library": "var_list.py",
     "varRefreshCmd": "print(var_dic_list())"
    },
    "r": {
     "delete_cmd_postfix": ") ",
     "delete_cmd_prefix": "rm(",
     "library": "var_list.r",
     "varRefreshCmd": "cat(var_dic_list()) "
    }
   },
   "types_to_exclude": [
    "module",
    "function",
    "builtin_function_or_method",
    "instance",
    "_Feature"
   ],
   "window_display": false
  }
 },
 "nbformat": 4,
 "nbformat_minor": 5
}
