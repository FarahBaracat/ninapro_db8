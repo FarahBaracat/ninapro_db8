{
 "cells": [
  {
   "cell_type": "markdown",
   "id": "6d0b27eb",
   "metadata": {},
   "source": [
    "# EDA for the Ninapro DB 8"
   ]
  },
  {
   "cell_type": "code",
   "execution_count": 1,
   "id": "99117905",
   "metadata": {},
   "outputs": [],
   "source": [
    "import h5py\n",
    "import os\n",
    "import scipy.io\n",
    "from collections import Counter\n",
    "import matplotlib.pyplot as plt\n",
    "import logging\n",
    "import matplotlib.gridspec as gridspec\n",
    "import pandas as pd\n",
    "import seaborn as sns\n",
    "from scipy import signal\n",
    "from tqdm import tqdm\n",
    "from scipy.fft import fft, fftfreq, rfft, rfftfreq\n",
    "import numpy as np\n",
    "\n",
    "pd.set_option('display.max_rows', 1000)\n",
    "\n"
   ]
  },
  {
   "cell_type": "code",
   "execution_count": 2,
   "id": "5467211f",
   "metadata": {},
   "outputs": [],
   "source": [
    "COLOR_DICT = {'midnight_blue': '#2c3e50', 'pomgrenate': '#c0392b', 'pumpkin': '#d35400', \n",
    "              'green_sea': '#16a085',\n",
    "              'wisteria': '#8e44ad', 'orange': '#f39c12', 'turquoise': '#1abc9c', 'grey': '#7f8c8d',\n",
    "             'lotus':'#f368e0', 'nasu':'#5f27cd'}\n"
   ]
  },
  {
   "cell_type": "code",
   "execution_count": 3,
   "id": "2716672f",
   "metadata": {},
   "outputs": [],
   "source": [
    "def parse_mat_file_to_dict(filepath):\n",
    "    data = {}\n",
    "    f = h5py.File(filepath, 'r')\n",
    "    for k, v in f.items():\n",
    "        data[k] = np.array(v)\n",
    "    return f, data"
   ]
  },
  {
   "cell_type": "markdown",
   "id": "7d4e90a2",
   "metadata": {},
   "source": [
    "# Loading Dataset"
   ]
  },
  {
   "cell_type": "code",
   "execution_count": 4,
   "id": "817b8eb9",
   "metadata": {},
   "outputs": [],
   "source": [
    "data_dir = 'data/'\n",
    "subject = 1\n",
    "subject_dataset = 1\n",
    "subject_file = f'S{subject}_E1_A{subject_dataset}.mat'  #S1_E1_A1.mat\n",
    "mat = scipy.io.loadmat(os.path.join(data_dir,subject_file))"
   ]
  },
  {
   "cell_type": "code",
   "execution_count": 5,
   "id": "bcb582be",
   "metadata": {},
   "outputs": [
    {
     "data": {
      "text/plain": [
       "{'__header__': b'MATLAB 5.0 MAT-file, Platform: PCWIN64, Created on: Thu Dec 06 15:23:01 2018',\n",
       " '__version__': '1.0',\n",
       " '__globals__': [],\n",
       " 'subject': array([[1]], dtype=uint8),\n",
       " 'exercise': array([[1]], dtype=uint8),\n",
       " 'emg': array([[-1.2213888e-05,  1.2848358e-05,  1.4171899e-06, ...,\n",
       "          2.4547974e-06, -3.5635583e-07,  3.9899796e-06],\n",
       "        [-1.1034591e-05,  1.1959419e-05, -8.0825924e-07, ...,\n",
       "          7.5772382e-06, -7.6994631e-08,  9.7154589e-06],\n",
       "        [-5.5595945e-07,  1.0261851e-05, -9.0351966e-07, ...,\n",
       "          9.7515685e-06, -2.5459797e-06,  6.3704433e-06],\n",
       "        ...,\n",
       "        [-3.5108628e-06, -1.2804191e-05,  1.3349400e-06, ...,\n",
       "         -3.4621539e-07, -2.2962845e-06,  1.2677652e-06],\n",
       "        [-9.1614737e-07, -1.4396191e-05,  3.9385824e-07, ...,\n",
       "         -1.8846814e-06, -2.8121669e-06,  1.2581410e-07],\n",
       "        [ 8.8349225e-08, -1.3151894e-05, -2.0248261e-07, ...,\n",
       "         -2.3238319e-06, -3.3372892e-06,  1.1472472e-07]], dtype=float32),\n",
       " 'acc': array([[ 0.9677953 ,  0.35653424, -0.19888492, ...,  0.7739258 ,\n",
       "          0.11230469, -0.632669  ],\n",
       "        [ 0.96815556,  0.35639012, -0.19982164, ...,  0.7739258 ,\n",
       "          0.11230469, -0.6319124 ],\n",
       "        [ 0.9685158 ,  0.356246  , -0.20075837, ...,  0.7739258 ,\n",
       "          0.11230469, -0.6311558 ],\n",
       "        ...,\n",
       "        [ 0.9828878 ,  0.33010608, -0.20817553, ...,  0.7851786 ,\n",
       "          0.11140639, -0.6180914 ],\n",
       "        [ 0.98263496,  0.32992524, -0.20840533, ...,  0.7856149 ,\n",
       "          0.1110835 , -0.6178277 ],\n",
       "        [ 0.98230946,  0.3297444 , -0.20887552, ...,  0.7861575 ,\n",
       "          0.11079415, -0.61742985]], dtype=float32),\n",
       " 'gyro': array([[-0.14688705,  0.62086004,  1.730889  , ..., -2.195122  ,\n",
       "         -1.6588093 ,  1.9886234 ],\n",
       "        [-0.1558852 ,  0.6028638 ,  1.7173917 , ..., -2.195122  ,\n",
       "         -1.6633084 ,  2.0021205 ],\n",
       "        [-0.16488336,  0.5848675 ,  1.7038945 , ..., -2.195122  ,\n",
       "         -1.6678075 ,  2.0156178 ],\n",
       "        ...,\n",
       "        [-1.7710853 ,  0.24599683,  1.6491339 , ..., -5.487107  ,\n",
       "         -2.0724726 ,  2.6240456 ],\n",
       "        [-1.7721113 ,  0.25153962,  1.6234299 , ..., -5.480168  ,\n",
       "         -2.0769892 ,  2.6104956 ],\n",
       "        [-1.776628  ,  0.26057303,  1.5963297 , ..., -5.471134  ,\n",
       "         -2.081506  ,  2.5969455 ]], dtype=float32),\n",
       " 'mag': array([[ 15.038658  ,  -4.4795527 , -89.47732   , ..., -49.4       ,\n",
       "           1.9795526 ,  79.5       ],\n",
       "        [ 15.016522  ,  -4.472174  , -89.433044  , ..., -49.4       ,\n",
       "           1.9721742 ,  79.5       ],\n",
       "        [ 14.994387  ,  -4.4647956 , -89.38877   , ..., -49.4       ,\n",
       "           1.9647957 ,  79.5       ],\n",
       "        ...,\n",
       "        [ 15.3       ,  -6.2       , -91.7       , ..., -46.4       ,\n",
       "          -0.7       ,  79.4       ],\n",
       "        [ 15.306262  ,  -6.1937375 , -91.725044  , ..., -46.387478  ,\n",
       "          -0.687475  ,  79.41253   ],\n",
       "        [ 15.31367   ,  -6.18633   , -91.75468   , ..., -46.37266   ,\n",
       "          -0.67266023,  79.42734   ]], dtype=float32),\n",
       " 'glove': array([[ 46.5872   , -14.4243555,  22.320053 , ...,  41.629326 ,\n",
       "           2.8205853,   5.1383142],\n",
       "        [ 46.5872   , -14.4243555,  22.320053 , ...,  41.629326 ,\n",
       "           2.8205853,   5.1383142],\n",
       "        [ 46.5872   , -14.4243555,  22.320053 , ...,  41.629326 ,\n",
       "           2.8205853,   5.1383142],\n",
       "        ...,\n",
       "        [ 50.314175 , -25.619379 ,  24.861235 , ...,  62.55128  ,\n",
       "           8.919148 ,   3.5572944],\n",
       "        [ 50.314175 , -25.619379 ,  24.861235 , ...,  62.55128  ,\n",
       "           8.919148 ,   3.5572944],\n",
       "        [ 50.314175 , -25.619379 ,  24.861235 , ...,  62.55128  ,\n",
       "           8.919148 ,   3.5572944]], dtype=float32),\n",
       " 'stimulus': array([[0],\n",
       "        [0],\n",
       "        [0],\n",
       "        ...,\n",
       "        [0],\n",
       "        [0],\n",
       "        [0]], dtype=int8),\n",
       " 'repetition': array([[0],\n",
       "        [0],\n",
       "        [0],\n",
       "        ...,\n",
       "        [0],\n",
       "        [0],\n",
       "        [0]], dtype=int8),\n",
       " 'restimulus': array([[0],\n",
       "        [0],\n",
       "        [0],\n",
       "        ...,\n",
       "        [0],\n",
       "        [0],\n",
       "        [0]], dtype=int8),\n",
       " 'rerepetition': array([[1],\n",
       "        [1],\n",
       "        [1],\n",
       "        ...,\n",
       "        [0],\n",
       "        [0],\n",
       "        [0]], dtype=int8)}"
      ]
     },
     "execution_count": 5,
     "metadata": {},
     "output_type": "execute_result"
    }
   ],
   "source": [
    "mat"
   ]
  },
  {
   "cell_type": "markdown",
   "id": "91c83bf5",
   "metadata": {},
   "source": [
    "# Dataset Description"
   ]
  },
  {
   "cell_type": "markdown",
   "id": "7504515d",
   "metadata": {},
   "source": [
    "### Acquisition\n",
    "For each participant, three datasets were collected: \n",
    "- the first two datasets (acquisitions 1 & 2) comprised **10 repetitions of each movement** and the third dataset (acquisition 3) comprised only two repetitions. \n",
    "\n",
    "The variables included in the .mat files are the following:\n",
    "- subject: subject number\n",
    "- exercise: exercise number (value set to 1 in all data files)\n",
    "- emg (16 columns): sEMG signals from the 16 sensors\n",
    "- acc (48 columns): three-axis accelerometer data from the 16 sensors\n",
    "- gyro (48 columns): three-axis gyroscope data from the 16 sensors\n",
    "- mag (48 columns): three-axis magnetometer data from the 16 sensors\n",
    "- glove (18 columns): calibrated signals from the 18 sensors of the Cyberglove\n",
    "- stimulus (1 column): the movement repeated by the subject\n",
    "- restimulus (1 column): again the movement repeated by the subject. In this case, the duration of the movement label is refined a-posteriori in order to correspond to the real movement.\n",
    "- repetition (1 column): repetition number of the stimulus\n",
    "- rerepetition (1 column): repetition number of restimulus\n",
    "\n",
    "\n",
    "### Sampling frequency and Preprocessing\n",
    "- The muscular activity was recorded using 16 active double-differential wireless sensors from a Delsys Trigno IM Wireless EMG system. The sensors comprise EMG electrodes and 9-axis inertial measurement units (IMUs). The sensors were positioned in two rows of eight units around the participants’ right forearm in correspondence to the radiohumeral joint (see pictures below). No specific muscles were targeted. The sensors were fixed on the forearm using the standard manufacturer-provided adhesive bands. \n",
    "- Moreover, a hypoallergenic elastic latex-free band was placed around the sensors to keep them fixed during the acquisition. \n",
    "- Sampling rate:\n",
    "    - **The sEMG signals were sampled at a rate of 1111 Hz**, \n",
    "    - **accelerometer and gyroscope data were sampled at 148 Hz**\n",
    "    - **magnetometer data were sampled at 74 Hz**. \n",
    "    - **All signals were upsampled to 2 kHz and post-synchronized.**\n",
    "    \n",
    "### Recorded target (i.e hand movements)\n",
    "- During the acquisition, the subjects were asked to repeat 9 movements using both hands (bilateral mirrored movements). \n",
    "- The duration of each of the nine movements varied between **6 and 9 seconds** and consecutive trials were interleaved with **3 seconds of rest**. \n",
    "- Each repetition started with the participant holding their fingers at the rest state and involved slowly reaching the target posture as shown on the screen and returning to the rest state before the end of the trial. \n",
    "\n",
    "- The following movements were included:\n",
    "    0. rest\n",
    "    1. thumb flexion/extension\n",
    "    2. thumb abduction/adduction\n",
    "    3. index finger flexion/extension\n",
    "    4. middle finger flexion/extension\n",
    "    5. combined ring and little fingers flexion/extension\n",
    "    6. index pointer\n",
    "    7. cylindrical grip\n",
    "    8. lateral grip\n",
    "    9. tripod grip\n",
    "\n"
   ]
  },
  {
   "cell_type": "markdown",
   "id": "ec2547cf",
   "metadata": {},
   "source": [
    "# Dataset Insights"
   ]
  },
  {
   "cell_type": "code",
   "execution_count": 6,
   "id": "f42b9250",
   "metadata": {},
   "outputs": [
    {
     "name": "stdout",
     "output_type": "stream",
     "text": [
      "EMG data:(2292526, 16)\n",
      "Glove data:(2292526, 18) \n",
      "acc data:(2292526, 48)\n",
      "\n",
      "stimulus data:(2292526, 1) \n",
      "restimulus data:(2292526, 1)\n",
      "\n",
      "repetition data:(2292526, 1) \n",
      "rerepetition data:(2292526, 1)\n",
      "Rerepetition value count:\n",
      "Counter({1: 291411, 6: 235135, 4: 231914, 8: 225229, 10: 224936, 2: 219693, 3: 216540, 5: 215265, 9: 213469, 7: 209056, 0: 9878})\n"
     ]
    },
    {
     "data": {
      "text/plain": [
       "Counter({0: 1188175,\n",
       "         1: 82564,\n",
       "         2: 93842,\n",
       "         3: 160468,\n",
       "         4: 120850,\n",
       "         5: 112737,\n",
       "         6: 88592,\n",
       "         7: 175325,\n",
       "         8: 120336,\n",
       "         9: 149637})"
      ]
     },
     "execution_count": 6,
     "metadata": {},
     "output_type": "execute_result"
    }
   ],
   "source": [
    "print(f\"EMG data:{mat['emg'].shape}\\nGlove data:{mat['glove'].shape} \\nacc data:{mat['acc'].shape}\")\n",
    "print(f\"\\nstimulus data:{mat['stimulus'].shape} \\nrestimulus data:{mat['restimulus'].shape}\")\n",
    "print(f\"\\nrepetition data:{mat['repetition'].shape} \\nrerepetition data:{mat['rerepetition'].shape}\")\n",
    "\n",
    "\n",
    "print(f\"Rerepetition value count:\\n{Counter(mat['rerepetition'][:,0])}\")\n",
    "Counter(mat['restimulus'][:,0])"
   ]
  },
  {
   "cell_type": "markdown",
   "id": "0bdb77e0",
   "metadata": {},
   "source": [
    "- sEMG has 16 channels.\n",
    "- 'rerepetition' variable defines the number of trial per movement.\n",
    "- 'restimulus' defines the target gesture to be performed by subject. This variable takes in a value from 0 to 9 representing the 10 classes of gestures + rest"
   ]
  },
  {
   "cell_type": "code",
   "execution_count": 7,
   "id": "731f9837",
   "metadata": {},
   "outputs": [
    {
     "data": {
      "text/plain": [
       "Counter({0: 796495,\n",
       "         1: 139161,\n",
       "         2: 141287,\n",
       "         3: 168908,\n",
       "         4: 147710,\n",
       "         5: 147201,\n",
       "         6: 147253,\n",
       "         7: 218899,\n",
       "         8: 181869,\n",
       "         9: 203743})"
      ]
     },
     "execution_count": 7,
     "metadata": {},
     "output_type": "execute_result"
    }
   ],
   "source": [
    "Counter(mat['stimulus'][:,0])"
   ]
  },
  {
   "cell_type": "code",
   "execution_count": 8,
   "id": "89049049",
   "metadata": {},
   "outputs": [
    {
     "ename": "NameError",
     "evalue": "name 'np' is not defined",
     "output_type": "error",
     "traceback": [
      "\u001b[0;31m---------------------------------------------------------------------------\u001b[0m",
      "\u001b[0;31mNameError\u001b[0m                                 Traceback (most recent call last)",
      "\u001b[0;32m<ipython-input-8-62d8db6e0144>\u001b[0m in \u001b[0;36m<module>\u001b[0;34m\u001b[0m\n\u001b[1;32m      3\u001b[0m \u001b[0;34m\u001b[0m\u001b[0m\n\u001b[1;32m      4\u001b[0m \u001b[0mrec_duration\u001b[0m \u001b[0;34m=\u001b[0m \u001b[0mmat\u001b[0m\u001b[0;34m[\u001b[0m\u001b[0;34m'emg'\u001b[0m\u001b[0;34m]\u001b[0m\u001b[0;34m.\u001b[0m\u001b[0mshape\u001b[0m\u001b[0;34m[\u001b[0m\u001b[0;36m0\u001b[0m\u001b[0;34m]\u001b[0m\u001b[0;34m/\u001b[0m\u001b[0mFS\u001b[0m\u001b[0;34m\u001b[0m\u001b[0;34m\u001b[0m\u001b[0m\n\u001b[0;32m----> 5\u001b[0;31m \u001b[0mrec_time\u001b[0m \u001b[0;34m=\u001b[0m \u001b[0mnp\u001b[0m\u001b[0;34m.\u001b[0m\u001b[0marange\u001b[0m\u001b[0;34m(\u001b[0m\u001b[0;36m0\u001b[0m\u001b[0;34m,\u001b[0m\u001b[0mrec_duration\u001b[0m\u001b[0;34m,\u001b[0m \u001b[0;36m1\u001b[0m\u001b[0;34m/\u001b[0m\u001b[0mFS\u001b[0m\u001b[0;34m)\u001b[0m\u001b[0;34m\u001b[0m\u001b[0;34m\u001b[0m\u001b[0m\n\u001b[0m\u001b[1;32m      6\u001b[0m \u001b[0mprint\u001b[0m\u001b[0;34m(\u001b[0m\u001b[0;34mf\"Total recording duration for this subject {subject}: {rec_duration} seconds\"\u001b[0m\u001b[0;34m)\u001b[0m\u001b[0;34m\u001b[0m\u001b[0;34m\u001b[0m\u001b[0m\n\u001b[1;32m      7\u001b[0m \u001b[0mprint\u001b[0m\u001b[0;34m(\u001b[0m\u001b[0;34mf\"Creating time axis: \\nbeg {rec_time[:5]} \\nend {rec_time[-5:]}\\n\"\u001b[0m\u001b[0;34m)\u001b[0m\u001b[0;34m\u001b[0m\u001b[0;34m\u001b[0m\u001b[0m\n",
      "\u001b[0;31mNameError\u001b[0m: name 'np' is not defined"
     ]
    }
   ],
   "source": [
    "FS = 2000\n",
    "N_CH = mat['emg'].shape[1]\n",
    "\n",
    "rec_duration = mat['emg'].shape[0]/FS\n",
    "rec_time = np.arange(0,rec_duration, 1/FS)\n",
    "print(f\"Total recording duration for this subject {subject}: {rec_duration} seconds\")\n",
    "print(f\"Creating time axis: \\nbeg {rec_time[:5]} \\nend {rec_time[-5:]}\\n\")\n",
    "print(f\"sEMG Channels: {N_CH}\")"
   ]
  },
  {
   "cell_type": "code",
   "execution_count": null,
   "id": "3288b13c",
   "metadata": {},
   "outputs": [],
   "source": [
    "# loading into df for easier handling\n",
    "emg_df = pd.DataFrame(mat['emg'])\n",
    "emg_df['time'] = rec_time\n",
    "emg_df['restimulus'] = mat['restimulus']\n",
    "emg_df['rerepetition'] = mat['rerepetition']\n",
    "emg_df['trial'] = (emg_df['restimulus'] != emg_df['restimulus'].shift()).cumsum()\n",
    "\n",
    "emg_df"
   ]
  },
  {
   "cell_type": "markdown",
   "id": "97164306",
   "metadata": {},
   "source": [
    "## EMG Summary statistics"
   ]
  },
  {
   "cell_type": "code",
   "execution_count": null,
   "id": "18fff8a4",
   "metadata": {},
   "outputs": [],
   "source": [
    "df = emg_df.iloc[:,:N_CH]  # shorthand for extracting only channel columns\n",
    "df.describe()"
   ]
  },
  {
   "cell_type": "code",
   "execution_count": null,
   "id": "1688b714",
   "metadata": {},
   "outputs": [],
   "source": [
    "ch_mean = df.mean()\n",
    "ch_std = df.std()\n",
    "\n",
    "\n",
    "fig = plt.figure(figsize=(15,5))\n",
    "gs = gridspec.GridSpec(ncols=2, nrows=1)\n",
    "ax = fig.add_subplot(gs[0])\n",
    "\n",
    "df.mean().plot(kind='bar', legend=True, ax= ax, title=\"Mean EMG Amplitudes\")\n",
    "plt.xlabel('Channels')\n",
    "\n",
    "ax = fig.add_subplot(gs[1])\n",
    "ch_mean.plot(yerr=ch_std, kind='bar', title='Std EMG Amplitudes')\n",
    "plt.xlabel('Channels');\n",
    "\n",
    "# ch_mean.plot(kind = \"barh\", y = \"mean\", legend = False,\n",
    "#         title = \"Average Prices\", xerr = \"std\")"
   ]
  },
  {
   "cell_type": "markdown",
   "id": "8e53e437",
   "metadata": {},
   "source": [
    "There is a high variance across the channels but also for a single channel between the different gestures"
   ]
  },
  {
   "cell_type": "markdown",
   "id": "d59fb755",
   "metadata": {},
   "source": [
    "### Gestures Duration"
   ]
  },
  {
   "cell_type": "code",
   "execution_count": null,
   "id": "75fec6a8",
   "metadata": {
    "scrolled": false
   },
   "outputs": [],
   "source": [
    "# The first time a new gesture is introduced: i.e time for all trials per gesture\n",
    "# Adjust the last restimulus duration\n",
    "gesture_first_time = emg_df.groupby('restimulus').first()['time'] \n",
    "gestures_duration = gesture_first_time.diff().shift(-1)\n",
    "gestures_duration[9] = emg_df.groupby('restimulus').last()['time'][9] - emg_df.groupby('restimulus').first()['time'][9]\n",
    "\n",
    "fig = plt.figure(figsize=(20,5))\n",
    "gs = gridspec.GridSpec(nrows=1, ncols=3)\n",
    "ax = fig.add_subplot(gs[0])\n",
    "gesture_first_time.plot(kind='barh', title=\"Start time of first repetition per gesture\", ax= ax)\n",
    "\n",
    "\n",
    "ax = fig.add_subplot(gs[1])\n",
    "gestures_duration.plot(kind='bar', title=\"Duration of each gesture (all repetitions inc. Rest )\", ax= ax,\n",
    "                      ylabel='Time [sec]', xlabel='restimulus')\n",
    "\n",
    "\n",
    "print(f'Duration of each gesture\\n{gestures_duration}')\n",
    "\n",
    "ax = fig.add_subplot(gs[2])\n",
    "exact_stim_duration = emg_df.groupby(['restimulus','trial'])['time'].last() - emg_df.groupby(['restimulus','trial'])['time'].first()\n",
    "exact_stim_duration.groupby('restimulus').mean().plot.bar(title='Avg. Duration per stimulus', ylabel='Time [sec]');"
   ]
  },
  {
   "cell_type": "markdown",
   "id": "11b756a4",
   "metadata": {},
   "source": [
    "**Interpretation**\n",
    "- Rest (0) is the first movement, it takes 9.947 seconds then all repetitions of gesture 1 are performed which take 113.44 seconds and so on.\n",
    "- **Note** that Rest trials are interleaved between the gestures, so the duration of rest here is that of the first repetition only. Also the reported duration for gestures is that of all repetitions including the rest trials in between the repetitions."
   ]
  },
  {
   "cell_type": "markdown",
   "id": "d332f5a0",
   "metadata": {},
   "source": [
    "### Mean EMG per gesture"
   ]
  },
  {
   "cell_type": "code",
   "execution_count": null,
   "id": "9d28cfc8",
   "metadata": {},
   "outputs": [],
   "source": [
    "fig = plt.figure(figsize=(20,9))\n",
    "ax  = fig.add_subplot()\n",
    "emg_df.groupby('restimulus')[np.arange(N_CH)].mean().T.plot.bar(ax=ax, ylabel='Mean amplitudes',\n",
    "                                                               xlabel='Channels',\n",
    "                                                               color=list(COLOR_DICT.values()),\n",
    "                                                               linewidth=1,\n",
    "                                                               width=0.72, rot = 0)\n",
    "\n",
    "ax.tick_params(axis='both', labelsize=14)\n",
    "ax.set_ylabel(ylabel='Mean amplitudes',fontsize=18)\n",
    "ax.set_xlabel(xlabel='Channels',fontsize=18)\n",
    "ax.legend(ncol=5)\n",
    "fig.suptitle('Mean EMG amplitude per stimulus', fontsize=20);\n"
   ]
  },
  {
   "cell_type": "code",
   "execution_count": null,
   "id": "bcc9c061",
   "metadata": {
    "scrolled": false
   },
   "outputs": [],
   "source": [
    "# mean ampltitude per stimulus (should get the same plot as above)\n",
    "# test = (emg_df.groupby(['restimulus','trial']).mean()).groupby('restimulus')[np.arange(N_CH)].mean()\n",
    "# test.T.plot.bar()"
   ]
  },
  {
   "cell_type": "markdown",
   "id": "09305611",
   "metadata": {},
   "source": [
    "- Channels are selective of the stimulus. For example channel 8 captures more stimuli 2,4,5,8 and 7.\n"
   ]
  },
  {
   "cell_type": "code",
   "execution_count": null,
   "id": "5fa138d7",
   "metadata": {},
   "outputs": [],
   "source": [
    "# correlation per stimulus\n",
    "emg_gb_stim = emg_df.groupby('restimulus')[np.arange(N_CH)].mean()\n",
    "cm = emg_gb_stim.corr()\n",
    "plt.figure(figsize=(18,9))\n",
    "sns.heatmap(cm, annot=True, cmap = 'viridis')\n",
    "plt.title(\"Channel-wise correlations using mean amplitudes (across all stimuli)\", fontsize=15);\n",
    "plt.xlabel('Channels', fontsize=15)\n",
    "plt.ylabel('Channels',fontsize=15);"
   ]
  },
  {
   "cell_type": "code",
   "execution_count": null,
   "id": "a5ea31bf",
   "metadata": {},
   "outputs": [],
   "source": [
    "# correlation between stimulus using mean amplitudes\n",
    "emg_gb_stim = emg_df.groupby('restimulus')[np.arange(N_CH)].mean().T\n",
    "stimulus_name = {0: 'rest', 1: 'thumb flex/ext',2: 'thumb ab/ad',\n",
    "                 3:'index flex/ext' ,\n",
    "                 4:'mid. flex/ext', 5:'r&l flex/ext',\n",
    "                 6:'index pointer', 7:'cyl. grip', 8:'lateral grip', 9:'tripod grip'}\n",
    "cm = emg_gb_stim.corr()\n",
    "plt.figure(figsize=(18,9))\n",
    "sns.heatmap(cm, annot=True,xticklabels=stimulus_name.values(), yticklabels=stimulus_name.values())\n",
    "# plt.title(\"Correlation between the channels mean amplitudes (across all stimuli)\", fontsize=15);\n",
    "plt.xlabel('Stimulus', fontsize=15)\n",
    "plt.ylabel('Stimulus',fontsize=15);"
   ]
  },
  {
   "cell_type": "code",
   "execution_count": null,
   "id": "f3e220b4",
   "metadata": {},
   "outputs": [],
   "source": [
    "# cm.sort_values(by=[7])"
   ]
  },
  {
   "cell_type": "code",
   "execution_count": null,
   "id": "f0cbd83f",
   "metadata": {},
   "outputs": [],
   "source": [
    "# quick test\n",
    "stim_pair = [9,1]\n",
    "stim_0_test = emg_df[emg_df['restimulus']==stim_pair[0]][np.arange(N_CH)].mean(axis=0)\n",
    "stim_1_test = emg_df[emg_df['restimulus']==stim_pair[1]][np.arange(N_CH)].mean(axis=0)\n",
    "\n",
    "\n",
    "np.corrcoef(stim_0_test, stim_1_test)"
   ]
  },
  {
   "cell_type": "markdown",
   "id": "60a84838",
   "metadata": {},
   "source": [
    "To compute the stimulus-wise correlation:\n",
    "- Get the mean of the channels for each stimulus then compute the correlation between the stimuli.\n",
    "\n",
    "**Observe the following**\n",
    "1. High correlation between tripod grip and both thumb flexion/extension and index flex/ext. This makes sense since the same fingers are flexed to perform this grip.\n",
    "2. Surprisingly, rest is also correlated with the grasps.\n"
   ]
  },
  {
   "cell_type": "markdown",
   "id": "f022af1c",
   "metadata": {},
   "source": [
    "### Signal Visualization"
   ]
  },
  {
   "cell_type": "code",
   "execution_count": null,
   "id": "c2efa6d7",
   "metadata": {},
   "outputs": [],
   "source": [
    "# From a single channel\n",
    "\n",
    "ch = 0\n",
    "\n",
    "fig = plt.figure(figsize=(20,5))\n",
    "gs =gridspec.GridSpec(ncols=2, nrows=1)\n",
    "ax = fig.add_subplot(gs[0])\n",
    "\n",
    "ax.plot(rec_time, emg_df[ch],color=COLOR_DICT['midnight_blue'], label=f'Ch{ch}')\n",
    "        \n",
    "# plt.title('Single channel EMG [entire recording]')\n",
    "plt.legend()\n",
    "plt.xlabel('time [s]');\n",
    "plt.ylabel('amplitude');\n",
    "\n",
    "ax = fig.add_subplot(gs[1])\n",
    "sns.lineplot(data=emg_df, x=\"time\", y=0, hue=\"restimulus\",\n",
    "             palette=sns.color_palette(list(COLOR_DICT.values())))\n",
    "fig.suptitle('Single channel EMG [entire recording]');"
   ]
  },
  {
   "cell_type": "code",
   "execution_count": null,
   "id": "ab890305",
   "metadata": {},
   "outputs": [],
   "source": [
    "# Zooming in\n",
    "ch = 0\n",
    "subset_N  = 300000\n",
    "plt.figure(figsize=(15,9))\n",
    "sns.lineplot(data=emg_df.loc[:subset_N], x=\"time\", y=ch, hue=\"restimulus\", \n",
    "             palette=sns.color_palette(list(COLOR_DICT.values()))[:3])\n",
    "plt.xticks(ticks=np.arange(0,150,5));\n",
    "plt.grid(True)\n",
    "plt.title(f\"Channel {ch}\")"
   ]
  },
  {
   "cell_type": "code",
   "execution_count": null,
   "id": "e45dae3c",
   "metadata": {},
   "outputs": [],
   "source": [
    "# single finger movement\n",
    "finger = 'index flex/ext'\n",
    "index_finger_id = list(stimulus_name.keys())[list(stimulus_name.values()).index(finger)]\n",
    "rep = 2\n",
    "\n",
    "single_df = emg_df[(emg_df['restimulus']==index_finger_id) & (emg_df['rerepetition'] == rep)]\n",
    "ch = 0\n",
    "subset_N  = 300000\n",
    "plt.figure(figsize=(15,9))\n",
    "sns.lineplot(data=single_df, x=\"time\", y=ch, hue=\"restimulus\", \n",
    "             palette=sns.color_palette(list(COLOR_DICT.values()))[:1])\n",
    "plt.grid(True)\n",
    "plt.title(f\"EMG Channel {ch} Repetition#{rep} for {finger}\");\n"
   ]
  },
  {
   "cell_type": "markdown",
   "id": "5a03cd1c",
   "metadata": {},
   "source": [
    "## Glove data"
   ]
  },
  {
   "cell_type": "code",
   "execution_count": null,
   "id": "88a39328",
   "metadata": {},
   "outputs": [],
   "source": [
    "glove_df = pd.DataFrame(mat['glove'])\n",
    "glove_df['time'] = rec_time\n",
    "glove_df['restimulus']= mat['restimulus']\n",
    "glove_df['rerepetition']= mat['rerepetition']\n",
    "glove_df['trial'] = emg_df['trial']\n",
    "\n",
    "print(f\"Checking on unique restimulus {glove_df[glove_df['rerepetition']==2]['restimulus'].unique()}\")\n",
    "print(f\"Checking on id of first repetition per restimulus:\\n {glove_df.groupby('restimulus')['rerepetition'].first()}\")"
   ]
  },
  {
   "cell_type": "markdown",
   "id": "80bf409c",
   "metadata": {},
   "source": [
    "### Tracking Index Finger Marker"
   ]
  },
  {
   "cell_type": "code",
   "execution_count": null,
   "id": "e1d82846",
   "metadata": {},
   "outputs": [],
   "source": [
    "glove_df[(glove_df['restimulus']==1) & (glove_df['trial'] == 2)]  \n",
    "    \n",
    "glove_df.groupby(['restimulus','trial']).first()"
   ]
  },
  {
   "cell_type": "code",
   "execution_count": null,
   "id": "5d65267b",
   "metadata": {
    "scrolled": false
   },
   "outputs": [],
   "source": [
    "# manually picking the trial nuumber that would correspond to flex/extend finger\n",
    "finger = 'index flex/ext'\n",
    "index_finger_id = list(stimulus_name.keys())[list(stimulus_name.values()).index(finger)]\n",
    "rep = 42\n",
    "single_finger_trial = glove_df[(glove_df['restimulus']==index_finger_id) & (glove_df['trial'] == rep)]  \n",
    "\n",
    "glove_index_ch = 5  # channel 6 is on the index finger joint\n",
    "subset_N  = 300000\n",
    "plt.figure(figsize=(15,5))\n",
    "sns.lineplot(data=single_finger_trial, x=\"time\", y=glove_index_ch, hue=\"restimulus\", \n",
    "             palette=sns.color_palette(list(COLOR_DICT.values()))[:1])\n",
    "plt.grid(True)\n",
    "plt.title(f\"Single trial (#{rep}) Glove data for {finger} - Channel# {glove_index_ch}\", fontsize=16)\n",
    "plt.xlabel('time [sec]')\n",
    "\n",
    "\n",
    "fig = plt.figure(figsize=(15,5))\n",
    "gs = gridspec.GridSpec(nrows=1, ncols=1)\n",
    "ax = fig.add_subplot(gs[0])\n",
    "\n",
    "for rep in range(1,10):\n",
    "    index_trial = glove_df[(glove_df['restimulus']==index_finger_id) & (glove_df['rerepetition'] ==rep)][glove_index_ch]\n",
    "    index_trial.plot(label=f\"Trial#{rep}\", ax= ax)\n",
    "plt.legend(ncol=5)\n",
    "plt.ylabel('Position [a.u.]')\n",
    "plt.xlabel('time [sec]')\n",
    "plt.title('')\n"
   ]
  },
  {
   "cell_type": "code",
   "execution_count": null,
   "id": "828bf1da",
   "metadata": {},
   "outputs": [],
   "source": [
    "# fig = plt.figure(figsize=(20,5))\n",
    "# gs = gridspec.GridSpec(nrows=2, ncols=5)\n",
    "\n",
    "# for i, rep in enumerate(range(1,10)):\n",
    "#     ax = fig.add_subplot(gs[i])\n",
    "\n",
    "#     index_trial = glove_df[(glove_df['restimulus']==index_finger_id) & (glove_df['rerepetition'] ==rep)][glove_index_ch]\n",
    "#     index_trial.plot(title=f\"Trial {rep}\", ax= ax)\n",
    "#     plt.xlabel('Time [sec]')\n"
   ]
  },
  {
   "cell_type": "code",
   "execution_count": null,
   "id": "ec97fe1b",
   "metadata": {},
   "outputs": [],
   "source": []
  },
  {
   "cell_type": "code",
   "execution_count": null,
   "id": "b2f80170",
   "metadata": {},
   "outputs": [],
   "source": [
    "# Checking on a different channel\n",
    "fig = plt.figure(figsize=(15,5))\n",
    "gs = gridspec.GridSpec(nrows=1, ncols=1)\n",
    "ax = fig.add_subplot(gs[0])\n",
    "glove_ch = 4\n",
    "for rep in range(1,10):\n",
    "    index_trial = glove_df[(glove_df['restimulus']==index_finger_id) & (glove_df['rerepetition'] ==rep)][glove_ch]\n",
    "    ax.plot(index_trial, label=f\"Trial#{rep}\")\n",
    "plt.legend(ncol=5)\n",
    "plt.ylabel('Position [a.u.]')\n",
    "plt.xlabel('time [sec]')\n",
    "plt.title(f'Glove Channel#{glove_ch}',fontsize=14)\n",
    "\n"
   ]
  },
  {
   "cell_type": "markdown",
   "id": "e4b0b942",
   "metadata": {},
   "source": [
    "# Is the date preprocessed already?\n",
    "\n",
    "<mark>**Note**: to check if the data is already pre-processed, I can check on the Fourier Transform of the signal and see if the signal is attenuated at frequencies multiple of 50 Hz (power-line interferance)</mark>\n",
    "\n",
    "\n",
    "## Conventional preprocessing\n",
    "Usually to filter the data we follow the classic:\n",
    "1. Notch filters for the power line interference\n",
    "2. Band pass filters\n",
    "\n",
    "\n",
    "For example, in [Hyser Paper](https://ieeexplore.ieee.org/document/9438637), a typical pre-processing pipleine looks like:\n",
    "\n",
    "> \"The acquired HD-sEMG signals were first filtered with **10 Hz highpass and 500 Hz lowpass Butterworth filters** (both are zero-phase digital filters processing the signals in both the forward and reverse directions, 8-order each direction). **A notch filter combination was then used to attenuate the power line interference at 50 Hz and all harmonic components up to 400 Hz**.\"\n",
    "\n",
    "\n"
   ]
  },
  {
   "cell_type": "code",
   "execution_count": null,
   "id": "9501b641",
   "metadata": {},
   "outputs": [],
   "source": [
    "# Plot FFT\n",
    "fig = plt.figure(figsize=(15,15))\n",
    "gs = gridspec.GridSpec(3, 1)\n",
    "N = emg_df.shape[0]\n",
    "\n",
    "ax = fig.add_subplot(gs[0])\n",
    "yf = fft( np.array(emg_df[0]))\n",
    "xf = fftfreq(N, 1 / FS)\n",
    "ax.plot(xf, np.abs(yf))\n",
    "plt.xlabel('freq[Hz]')\n",
    "plt.ylabel('FFT Amplitude |X(freq)|')\n",
    "plt.xlim([-200,200])\n",
    "plt.show()"
   ]
  },
  {
   "cell_type": "markdown",
   "id": "20390d9b",
   "metadata": {},
   "source": [
    "**Note**: there is already a notch filter (I think) applied to the signal. Frequencies at multiples of 50 Hz are already attenuated."
   ]
  },
  {
   "cell_type": "code",
   "execution_count": null,
   "id": "1fecf4bb",
   "metadata": {},
   "outputs": [],
   "source": [
    "def create_notch_filters(pipeline, samp_freq):\n",
    "    w0 = pipeline['notch_reject']\n",
    "    Q = pipeline['notch_reject'] / pipeline['notch_bandwidth']\n",
    "    fs = samp_freq\n",
    "    coeff_tuples = [(signal.iirnotch(w0 * i, Q, fs)) for i in range(1, 11)]\n",
    "    return coeff_tuples\n",
    "\n",
    "\n",
    "def create_bp_filter(prepipeline, samp_freq):\n",
    "    bp_order, bp_cutoff_freq = prepipeline['bp_order'], prepipeline['bp_cutoff_freq']\n",
    "    b_bp, a_bp = signal.butter(bp_order, bp_cutoff_freq / (samp_freq / 2), btype='bandpass')\n",
    "    return b_bp, a_bp\n",
    "\n",
    "def filter_data(data, b_coeff, a_coeff):\n",
    "    return signal.filtfilt(b_coeff, a_coeff, data)"
   ]
  },
  {
   "cell_type": "code",
   "execution_count": null,
   "id": "e46b95c2",
   "metadata": {},
   "outputs": [],
   "source": [
    "# pipeline = {'notch_reject': 50, 'notch_bandwidth': 0.5,\n",
    "#            'bp_order':2 , 'bp_cutoff_freq':np.array([2, 500]) }"
   ]
  }
 ],
 "metadata": {
  "kernelspec": {
   "display_name": "snn",
   "language": "python",
   "name": "snn"
  },
  "language_info": {
   "codemirror_mode": {
    "name": "ipython",
    "version": 3
   },
   "file_extension": ".py",
   "mimetype": "text/x-python",
   "name": "python",
   "nbconvert_exporter": "python",
   "pygments_lexer": "ipython3",
   "version": "3.8.12"
  },
  "toc": {
   "base_numbering": 1,
   "nav_menu": {},
   "number_sections": true,
   "sideBar": true,
   "skip_h1_title": false,
   "title_cell": "Table of Contents",
   "title_sidebar": "Contents",
   "toc_cell": false,
   "toc_position": {
    "height": "calc(100% - 180px)",
    "left": "10px",
    "top": "150px",
    "width": "374.3333435058594px"
   },
   "toc_section_display": true,
   "toc_window_display": true
  },
  "varInspector": {
   "cols": {
    "lenName": 16,
    "lenType": 16,
    "lenVar": 40
   },
   "kernels_config": {
    "python": {
     "delete_cmd_postfix": "",
     "delete_cmd_prefix": "del ",
     "library": "var_list.py",
     "varRefreshCmd": "print(var_dic_list())"
    },
    "r": {
     "delete_cmd_postfix": ") ",
     "delete_cmd_prefix": "rm(",
     "library": "var_list.r",
     "varRefreshCmd": "cat(var_dic_list()) "
    }
   },
   "types_to_exclude": [
    "module",
    "function",
    "builtin_function_or_method",
    "instance",
    "_Feature"
   ],
   "window_display": false
  }
 },
 "nbformat": 4,
 "nbformat_minor": 5
}
